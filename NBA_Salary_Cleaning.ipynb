{
 "cells": [
  {
   "cell_type": "markdown",
   "id": "34a965b2-4521-4cc8-9685-728df6238468",
   "metadata": {},
   "source": [
    "# NBA Salary Data Cleaning"
   ]
  },
  {
   "cell_type": "code",
   "execution_count": 1,
   "id": "fee07c29",
   "metadata": {},
   "outputs": [],
   "source": [
    "# Dependencies and Setup\n",
    "import pandas as pd \n",
    "from pathlib import Path\n",
    "import warnings\n",
    "warnings.filterwarnings('ignore')"
   ]
  },
  {
   "cell_type": "code",
   "execution_count": 2,
   "id": "5938d7fe",
   "metadata": {},
   "outputs": [
    {
     "data": {
      "text/html": [
       "<div>\n",
       "<style scoped>\n",
       "    .dataframe tbody tr th:only-of-type {\n",
       "        vertical-align: middle;\n",
       "    }\n",
       "\n",
       "    .dataframe tbody tr th {\n",
       "        vertical-align: top;\n",
       "    }\n",
       "\n",
       "    .dataframe thead th {\n",
       "        text-align: right;\n",
       "    }\n",
       "</style>\n",
       "<table border=\"1\" class=\"dataframe\">\n",
       "  <thead>\n",
       "    <tr style=\"text-align: right;\">\n",
       "      <th></th>\n",
       "      <th>index</th>\n",
       "      <th>league</th>\n",
       "      <th>player_id</th>\n",
       "      <th>salary</th>\n",
       "      <th>season</th>\n",
       "      <th>season_end</th>\n",
       "      <th>season_start</th>\n",
       "      <th>team</th>\n",
       "    </tr>\n",
       "  </thead>\n",
       "  <tbody>\n",
       "    <tr>\n",
       "      <th>0</th>\n",
       "      <td>0</td>\n",
       "      <td>NBA</td>\n",
       "      <td>abdelal01</td>\n",
       "      <td>395000</td>\n",
       "      <td>1990-91</td>\n",
       "      <td>1991</td>\n",
       "      <td>1990</td>\n",
       "      <td>Portland Trail Blazers</td>\n",
       "    </tr>\n",
       "    <tr>\n",
       "      <th>1</th>\n",
       "      <td>1</td>\n",
       "      <td>NBA</td>\n",
       "      <td>abdelal01</td>\n",
       "      <td>494000</td>\n",
       "      <td>1991-92</td>\n",
       "      <td>1992</td>\n",
       "      <td>1991</td>\n",
       "      <td>Portland Trail Blazers</td>\n",
       "    </tr>\n",
       "    <tr>\n",
       "      <th>2</th>\n",
       "      <td>2</td>\n",
       "      <td>NBA</td>\n",
       "      <td>abdelal01</td>\n",
       "      <td>500000</td>\n",
       "      <td>1992-93</td>\n",
       "      <td>1993</td>\n",
       "      <td>1992</td>\n",
       "      <td>Boston Celtics</td>\n",
       "    </tr>\n",
       "    <tr>\n",
       "      <th>3</th>\n",
       "      <td>3</td>\n",
       "      <td>NBA</td>\n",
       "      <td>abdelal01</td>\n",
       "      <td>805000</td>\n",
       "      <td>1993-94</td>\n",
       "      <td>1994</td>\n",
       "      <td>1993</td>\n",
       "      <td>Boston Celtics</td>\n",
       "    </tr>\n",
       "    <tr>\n",
       "      <th>4</th>\n",
       "      <td>4</td>\n",
       "      <td>NBA</td>\n",
       "      <td>abdelal01</td>\n",
       "      <td>650000</td>\n",
       "      <td>1994-95</td>\n",
       "      <td>1995</td>\n",
       "      <td>1994</td>\n",
       "      <td>Sacramento Kings</td>\n",
       "    </tr>\n",
       "  </tbody>\n",
       "</table>\n",
       "</div>"
      ],
      "text/plain": [
       "   index league  player_id  salary   season  season_end  season_start  \\\n",
       "0      0    NBA  abdelal01  395000  1990-91        1991          1990   \n",
       "1      1    NBA  abdelal01  494000  1991-92        1992          1991   \n",
       "2      2    NBA  abdelal01  500000  1992-93        1993          1992   \n",
       "3      3    NBA  abdelal01  805000  1993-94        1994          1993   \n",
       "4      4    NBA  abdelal01  650000  1994-95        1995          1994   \n",
       "\n",
       "                     team  \n",
       "0  Portland Trail Blazers  \n",
       "1  Portland Trail Blazers  \n",
       "2          Boston Celtics  \n",
       "3          Boston Celtics  \n",
       "4        Sacramento Kings  "
      ]
     },
     "execution_count": 2,
     "metadata": {},
     "output_type": "execute_result"
    }
   ],
   "source": [
    "# Pull CSV\n",
    "salary_df = pd.read_csv(\"Resources/salaries_1985to2018.csv\")\n",
    "salary_df.head()"
   ]
  },
  {
   "cell_type": "code",
   "execution_count": 3,
   "id": "5cf8b53a-780b-480e-b369-37509e513e41",
   "metadata": {},
   "outputs": [
    {
     "data": {
      "text/html": [
       "<div>\n",
       "<style scoped>\n",
       "    .dataframe tbody tr th:only-of-type {\n",
       "        vertical-align: middle;\n",
       "    }\n",
       "\n",
       "    .dataframe tbody tr th {\n",
       "        vertical-align: top;\n",
       "    }\n",
       "\n",
       "    .dataframe thead th {\n",
       "        text-align: right;\n",
       "    }\n",
       "</style>\n",
       "<table border=\"1\" class=\"dataframe\">\n",
       "  <thead>\n",
       "    <tr style=\"text-align: right;\">\n",
       "      <th></th>\n",
       "      <th>index</th>\n",
       "      <th>league</th>\n",
       "      <th>player_id</th>\n",
       "      <th>salary</th>\n",
       "      <th>season</th>\n",
       "      <th>season_end</th>\n",
       "      <th>season_start</th>\n",
       "      <th>team</th>\n",
       "      <th>DATE</th>\n",
       "    </tr>\n",
       "  </thead>\n",
       "  <tbody>\n",
       "    <tr>\n",
       "      <th>0</th>\n",
       "      <td>0</td>\n",
       "      <td>NBA</td>\n",
       "      <td>abdelal01</td>\n",
       "      <td>395000</td>\n",
       "      <td>1990-91</td>\n",
       "      <td>1991</td>\n",
       "      <td>1990</td>\n",
       "      <td>Portland Trail Blazers</td>\n",
       "      <td>1990-01-01</td>\n",
       "    </tr>\n",
       "    <tr>\n",
       "      <th>1</th>\n",
       "      <td>1</td>\n",
       "      <td>NBA</td>\n",
       "      <td>abdelal01</td>\n",
       "      <td>494000</td>\n",
       "      <td>1991-92</td>\n",
       "      <td>1992</td>\n",
       "      <td>1991</td>\n",
       "      <td>Portland Trail Blazers</td>\n",
       "      <td>1991-01-01</td>\n",
       "    </tr>\n",
       "    <tr>\n",
       "      <th>2</th>\n",
       "      <td>2</td>\n",
       "      <td>NBA</td>\n",
       "      <td>abdelal01</td>\n",
       "      <td>500000</td>\n",
       "      <td>1992-93</td>\n",
       "      <td>1993</td>\n",
       "      <td>1992</td>\n",
       "      <td>Boston Celtics</td>\n",
       "      <td>1992-01-01</td>\n",
       "    </tr>\n",
       "    <tr>\n",
       "      <th>3</th>\n",
       "      <td>3</td>\n",
       "      <td>NBA</td>\n",
       "      <td>abdelal01</td>\n",
       "      <td>805000</td>\n",
       "      <td>1993-94</td>\n",
       "      <td>1994</td>\n",
       "      <td>1993</td>\n",
       "      <td>Boston Celtics</td>\n",
       "      <td>1993-01-01</td>\n",
       "    </tr>\n",
       "    <tr>\n",
       "      <th>4</th>\n",
       "      <td>4</td>\n",
       "      <td>NBA</td>\n",
       "      <td>abdelal01</td>\n",
       "      <td>650000</td>\n",
       "      <td>1994-95</td>\n",
       "      <td>1995</td>\n",
       "      <td>1994</td>\n",
       "      <td>Sacramento Kings</td>\n",
       "      <td>1994-01-01</td>\n",
       "    </tr>\n",
       "  </tbody>\n",
       "</table>\n",
       "</div>"
      ],
      "text/plain": [
       "   index league  player_id  salary   season  season_end  season_start  \\\n",
       "0      0    NBA  abdelal01  395000  1990-91        1991          1990   \n",
       "1      1    NBA  abdelal01  494000  1991-92        1992          1991   \n",
       "2      2    NBA  abdelal01  500000  1992-93        1993          1992   \n",
       "3      3    NBA  abdelal01  805000  1993-94        1994          1993   \n",
       "4      4    NBA  abdelal01  650000  1994-95        1995          1994   \n",
       "\n",
       "                     team       DATE  \n",
       "0  Portland Trail Blazers 1990-01-01  \n",
       "1  Portland Trail Blazers 1991-01-01  \n",
       "2          Boston Celtics 1992-01-01  \n",
       "3          Boston Celtics 1993-01-01  \n",
       "4        Sacramento Kings 1994-01-01  "
      ]
     },
     "execution_count": 3,
     "metadata": {},
     "output_type": "execute_result"
    }
   ],
   "source": [
    "# Create DATE column for merging later\n",
    "salary_df[\"DATE\"] = pd.to_datetime(salary_df[\"season_start\"].astype(str)+ \"-01-01\")\n",
    "salary_df.head()"
   ]
  },
  {
   "cell_type": "code",
   "execution_count": 4,
   "id": "3b540db4-bcd4-4edb-9767-a5b4aec95e72",
   "metadata": {},
   "outputs": [
    {
     "name": "stdout",
     "output_type": "stream",
     "text": [
      "2408\n"
     ]
    }
   ],
   "source": [
    "# Print unique players\n",
    "print(len(salary_df[\"player_id\"].unique()))"
   ]
  },
  {
   "cell_type": "markdown",
   "id": "75e9af09",
   "metadata": {},
   "source": [
    "# Adjusting for Inflation\n",
    "All inflation rate is as of 09/01/2023"
   ]
  },
  {
   "cell_type": "code",
   "execution_count": 5,
   "id": "d5981db1-75a4-430d-9087-a959d936a54c",
   "metadata": {},
   "outputs": [
    {
     "data": {
      "text/html": [
       "<div>\n",
       "<style scoped>\n",
       "    .dataframe tbody tr th:only-of-type {\n",
       "        vertical-align: middle;\n",
       "    }\n",
       "\n",
       "    .dataframe tbody tr th {\n",
       "        vertical-align: top;\n",
       "    }\n",
       "\n",
       "    .dataframe thead th {\n",
       "        text-align: right;\n",
       "    }\n",
       "</style>\n",
       "<table border=\"1\" class=\"dataframe\">\n",
       "  <thead>\n",
       "    <tr style=\"text-align: right;\">\n",
       "      <th></th>\n",
       "      <th>DATE</th>\n",
       "      <th>CPIAUCNS</th>\n",
       "    </tr>\n",
       "  </thead>\n",
       "  <tbody>\n",
       "    <tr>\n",
       "      <th>0</th>\n",
       "      <td>1913-01-01</td>\n",
       "      <td>9.8</td>\n",
       "    </tr>\n",
       "    <tr>\n",
       "      <th>1</th>\n",
       "      <td>1913-02-01</td>\n",
       "      <td>9.8</td>\n",
       "    </tr>\n",
       "    <tr>\n",
       "      <th>2</th>\n",
       "      <td>1913-03-01</td>\n",
       "      <td>9.8</td>\n",
       "    </tr>\n",
       "    <tr>\n",
       "      <th>3</th>\n",
       "      <td>1913-04-01</td>\n",
       "      <td>9.8</td>\n",
       "    </tr>\n",
       "    <tr>\n",
       "      <th>4</th>\n",
       "      <td>1913-05-01</td>\n",
       "      <td>9.7</td>\n",
       "    </tr>\n",
       "  </tbody>\n",
       "</table>\n",
       "</div>"
      ],
      "text/plain": [
       "         DATE  CPIAUCNS\n",
       "0  1913-01-01       9.8\n",
       "1  1913-02-01       9.8\n",
       "2  1913-03-01       9.8\n",
       "3  1913-04-01       9.8\n",
       "4  1913-05-01       9.7"
      ]
     },
     "execution_count": 5,
     "metadata": {},
     "output_type": "execute_result"
    }
   ],
   "source": [
    "# Pull CPI CSV to adjust for inflation\n",
    "cpi_data = pd.read_csv('Resources/CPIAUCNS.csv')\n",
    "cpi_data.head()"
   ]
  },
  {
   "cell_type": "code",
   "execution_count": 6,
   "id": "b72d4724-a637-4c2f-9aa0-5c1c0329474b",
   "metadata": {},
   "outputs": [
    {
     "ename": "NameError",
     "evalue": "name 'cpi_file' is not defined",
     "output_type": "error",
     "traceback": [
      "\u001b[1;31m---------------------------------------------------------------------------\u001b[0m",
      "\u001b[1;31mNameError\u001b[0m                                 Traceback (most recent call last)",
      "Cell \u001b[1;32mIn[6], line 4\u001b[0m\n\u001b[0;32m      2\u001b[0m cpi_data[\u001b[38;5;124m'\u001b[39m\u001b[38;5;124mCPI_rate\u001b[39m\u001b[38;5;124m'\u001b[39m] \u001b[38;5;241m=\u001b[39m cpi_data[\u001b[38;5;124m'\u001b[39m\u001b[38;5;124mCPIAUCNS\u001b[39m\u001b[38;5;124m'\u001b[39m]\u001b[38;5;241m.\u001b[39miloc[\u001b[38;5;241m-\u001b[39m\u001b[38;5;241m1\u001b[39m]\u001b[38;5;241m/\u001b[39mcpi_data[\u001b[38;5;124m'\u001b[39m\u001b[38;5;124mCPIAUCNS\u001b[39m\u001b[38;5;124m'\u001b[39m]\n\u001b[0;32m      3\u001b[0m cpi_data[\u001b[38;5;124m'\u001b[39m\u001b[38;5;124mDATE\u001b[39m\u001b[38;5;124m'\u001b[39m] \u001b[38;5;241m=\u001b[39m pd\u001b[38;5;241m.\u001b[39mto_datetime(cpi_data[\u001b[38;5;124m'\u001b[39m\u001b[38;5;124mDATE\u001b[39m\u001b[38;5;124m'\u001b[39m])\n\u001b[1;32m----> 4\u001b[0m \u001b[43mcpi_file\u001b[49m\u001b[38;5;241m.\u001b[39mhead()\n",
      "\u001b[1;31mNameError\u001b[0m: name 'cpi_file' is not defined"
     ]
    }
   ],
   "source": [
    "# Create new column to adjust each year to Sep. 01 2023\n",
    "cpi_data['CPI_rate'] = cpi_data['CPIAUCNS'].iloc[-1]/cpi_data['CPIAUCNS']\n",
    "cpi_data['DATE'] = pd.to_datetime(cpi_data['DATE'])\n",
    "cpi_file.head()"
   ]
  },
  {
   "cell_type": "code",
   "execution_count": null,
   "id": "838ccf86-5f3c-462d-a6b4-742712b2adc0",
   "metadata": {},
   "outputs": [],
   "source": [
    "# Create Inflation Adjusted Salary column\n",
    "total_salary2 = pd.merge(salary_df, cpi_data, how=\"left\", on=\"DATE\")\n",
    "total_salary2['inflation_adjusted_salary'] = total_salary2[\"salary\"] * total_salary2[\"CPI_rate\"]\n",
    "total_salary2.head()"
   ]
  },
  {
   "cell_type": "code",
   "execution_count": null,
   "id": "f6e0d504",
   "metadata": {},
   "outputs": [],
   "source": [
    "# Drop unnecessary columns\n",
    "total_salary2 = total_salary2[['player_id', 'salary', 'inflation_adjusted_salary']]\n",
    "total_salary2.head()"
   ]
  },
  {
   "cell_type": "code",
   "execution_count": null,
   "id": "300066a6",
   "metadata": {
    "scrolled": true
   },
   "outputs": [],
   "source": [
    "# Group by player id and the sum of salary and inflation-adjusted salary\n",
    "player_salary = total_salary2.groupby(['player_id']).sum()\n",
    "player_salary.head()"
   ]
  },
  {
   "cell_type": "code",
   "execution_count": null,
   "id": "53085822-ebc1-44cb-9059-bd43b5d1a026",
   "metadata": {},
   "outputs": [],
   "source": [
    "# Print total rows\n",
    "player_salary.count()"
   ]
  },
  {
   "cell_type": "code",
   "execution_count": null,
   "id": "37ec6129-dc94-4ee8-8802-db1592e1a864",
   "metadata": {},
   "outputs": [],
   "source": [
    "# Rename player id and salary for merging\n",
    "player_salary.index.rename(\"_id\", inplace=True)\n",
    "player_salary.rename(columns={\"salary\": \"Total Earnings\", \"inflation_adjusted_salary\": \"Inflation-Adjusted Earnings\"}, inplace=True)\n",
    "player_salary"
   ]
  },
  {
   "cell_type": "code",
   "execution_count": null,
   "id": "bba3395a-7577-4615-a9d0-2c2d51e4468a",
   "metadata": {},
   "outputs": [],
   "source": [
    "# Create Salary DataFrame with readable salaries\n",
    "player_salary2 = player_salary.copy()\n",
    "player_salary2[\"Total Earnings\"] = player_salary2[\"Total Earnings\"].map(\"${:,.2f}\".format)\n",
    "player_salary2[\"Inflation-Adjusted Earnings\"] = player_salary2[\"Inflation-Adjusted Earnings\"].map(\"${:,.2f}\".format)\n",
    "player_salary2.head()"
   ]
  },
  {
   "cell_type": "code",
   "execution_count": null,
   "id": "42956098",
   "metadata": {},
   "outputs": [],
   "source": [
    "# Push clean csv files\n",
    "filepath = Path('Resources/cleaned_salary_data.csv')  \n",
    "filepath.parent.mkdir(parents=True, exist_ok=True)  \n",
    "player_salary.to_csv(filepath)"
   ]
  }
 ],
 "metadata": {
  "kernelspec": {
   "display_name": "Python 3 (ipykernel)",
   "language": "python",
   "name": "python3"
  },
  "language_info": {
   "codemirror_mode": {
    "name": "ipython",
    "version": 3
   },
   "file_extension": ".py",
   "mimetype": "text/x-python",
   "name": "python",
   "nbconvert_exporter": "python",
   "pygments_lexer": "ipython3",
   "version": "3.10.13"
  }
 },
 "nbformat": 4,
 "nbformat_minor": 5
}
