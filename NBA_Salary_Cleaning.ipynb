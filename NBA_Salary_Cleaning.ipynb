{
 "cells": [
  {
   "cell_type": "markdown",
   "id": "34a965b2-4521-4cc8-9685-728df6238468",
   "metadata": {},
   "source": [
    "# NBA Salary Data Cleaning"
   ]
  },
  {
   "cell_type": "code",
   "execution_count": 1,
   "id": "fee07c29",
   "metadata": {},
   "outputs": [],
   "source": [
    "# Dependencies and Setup\n",
    "import pandas as pd \n",
    "from pathlib import Path\n",
    "import warnings\n",
    "warnings.filterwarnings('ignore')"
   ]
  },
  {
   "cell_type": "code",
   "execution_count": 2,
   "id": "5938d7fe",
   "metadata": {},
   "outputs": [
    {
     "data": {
      "text/html": [
       "<div>\n",
       "<style scoped>\n",
       "    .dataframe tbody tr th:only-of-type {\n",
       "        vertical-align: middle;\n",
       "    }\n",
       "\n",
       "    .dataframe tbody tr th {\n",
       "        vertical-align: top;\n",
       "    }\n",
       "\n",
       "    .dataframe thead th {\n",
       "        text-align: right;\n",
       "    }\n",
       "</style>\n",
       "<table border=\"1\" class=\"dataframe\">\n",
       "  <thead>\n",
       "    <tr style=\"text-align: right;\">\n",
       "      <th></th>\n",
       "      <th>index</th>\n",
       "      <th>league</th>\n",
       "      <th>player_id</th>\n",
       "      <th>salary</th>\n",
       "      <th>season</th>\n",
       "      <th>season_end</th>\n",
       "      <th>season_start</th>\n",
       "      <th>team</th>\n",
       "    </tr>\n",
       "  </thead>\n",
       "  <tbody>\n",
       "    <tr>\n",
       "      <th>0</th>\n",
       "      <td>0</td>\n",
       "      <td>NBA</td>\n",
       "      <td>abdelal01</td>\n",
       "      <td>395000</td>\n",
       "      <td>1990-91</td>\n",
       "      <td>1991</td>\n",
       "      <td>1990</td>\n",
       "      <td>Portland Trail Blazers</td>\n",
       "    </tr>\n",
       "    <tr>\n",
       "      <th>1</th>\n",
       "      <td>1</td>\n",
       "      <td>NBA</td>\n",
       "      <td>abdelal01</td>\n",
       "      <td>494000</td>\n",
       "      <td>1991-92</td>\n",
       "      <td>1992</td>\n",
       "      <td>1991</td>\n",
       "      <td>Portland Trail Blazers</td>\n",
       "    </tr>\n",
       "    <tr>\n",
       "      <th>2</th>\n",
       "      <td>2</td>\n",
       "      <td>NBA</td>\n",
       "      <td>abdelal01</td>\n",
       "      <td>500000</td>\n",
       "      <td>1992-93</td>\n",
       "      <td>1993</td>\n",
       "      <td>1992</td>\n",
       "      <td>Boston Celtics</td>\n",
       "    </tr>\n",
       "    <tr>\n",
       "      <th>3</th>\n",
       "      <td>3</td>\n",
       "      <td>NBA</td>\n",
       "      <td>abdelal01</td>\n",
       "      <td>805000</td>\n",
       "      <td>1993-94</td>\n",
       "      <td>1994</td>\n",
       "      <td>1993</td>\n",
       "      <td>Boston Celtics</td>\n",
       "    </tr>\n",
       "    <tr>\n",
       "      <th>4</th>\n",
       "      <td>4</td>\n",
       "      <td>NBA</td>\n",
       "      <td>abdelal01</td>\n",
       "      <td>650000</td>\n",
       "      <td>1994-95</td>\n",
       "      <td>1995</td>\n",
       "      <td>1994</td>\n",
       "      <td>Sacramento Kings</td>\n",
       "    </tr>\n",
       "  </tbody>\n",
       "</table>\n",
       "</div>"
      ],
      "text/plain": [
       "   index league  player_id  salary   season  season_end  season_start  \\\n",
       "0      0    NBA  abdelal01  395000  1990-91        1991          1990   \n",
       "1      1    NBA  abdelal01  494000  1991-92        1992          1991   \n",
       "2      2    NBA  abdelal01  500000  1992-93        1993          1992   \n",
       "3      3    NBA  abdelal01  805000  1993-94        1994          1993   \n",
       "4      4    NBA  abdelal01  650000  1994-95        1995          1994   \n",
       "\n",
       "                     team  \n",
       "0  Portland Trail Blazers  \n",
       "1  Portland Trail Blazers  \n",
       "2          Boston Celtics  \n",
       "3          Boston Celtics  \n",
       "4        Sacramento Kings  "
      ]
     },
     "execution_count": 2,
     "metadata": {},
     "output_type": "execute_result"
    }
   ],
   "source": [
    "# Pull CSV\n",
    "salary_df = pd.read_csv(\"Resources/salaries_1985to2018.csv\")\n",
    "salary_df.head()"
   ]
  },
  {
   "cell_type": "code",
   "execution_count": 3,
   "id": "f6e0d504",
   "metadata": {},
   "outputs": [
    {
     "data": {
      "text/html": [
       "<div>\n",
       "<style scoped>\n",
       "    .dataframe tbody tr th:only-of-type {\n",
       "        vertical-align: middle;\n",
       "    }\n",
       "\n",
       "    .dataframe tbody tr th {\n",
       "        vertical-align: top;\n",
       "    }\n",
       "\n",
       "    .dataframe thead th {\n",
       "        text-align: right;\n",
       "    }\n",
       "</style>\n",
       "<table border=\"1\" class=\"dataframe\">\n",
       "  <thead>\n",
       "    <tr style=\"text-align: right;\">\n",
       "      <th></th>\n",
       "      <th>player_id</th>\n",
       "      <th>salary</th>\n",
       "    </tr>\n",
       "  </thead>\n",
       "  <tbody>\n",
       "    <tr>\n",
       "      <th>0</th>\n",
       "      <td>abdelal01</td>\n",
       "      <td>395000</td>\n",
       "    </tr>\n",
       "    <tr>\n",
       "      <th>1</th>\n",
       "      <td>abdelal01</td>\n",
       "      <td>494000</td>\n",
       "    </tr>\n",
       "    <tr>\n",
       "      <th>2</th>\n",
       "      <td>abdelal01</td>\n",
       "      <td>500000</td>\n",
       "    </tr>\n",
       "    <tr>\n",
       "      <th>3</th>\n",
       "      <td>abdelal01</td>\n",
       "      <td>805000</td>\n",
       "    </tr>\n",
       "    <tr>\n",
       "      <th>4</th>\n",
       "      <td>abdelal01</td>\n",
       "      <td>650000</td>\n",
       "    </tr>\n",
       "  </tbody>\n",
       "</table>\n",
       "</div>"
      ],
      "text/plain": [
       "   player_id  salary\n",
       "0  abdelal01  395000\n",
       "1  abdelal01  494000\n",
       "2  abdelal01  500000\n",
       "3  abdelal01  805000\n",
       "4  abdelal01  650000"
      ]
     },
     "execution_count": 3,
     "metadata": {},
     "output_type": "execute_result"
    }
   ],
   "source": [
    "# Drop unnecessary columns\n",
    "total_salary = salary_df[['player_id', 'salary']]\n",
    "total_salary.head()"
   ]
  },
  {
   "cell_type": "code",
   "execution_count": 4,
   "id": "3b540db4-bcd4-4edb-9767-a5b4aec95e72",
   "metadata": {},
   "outputs": [
    {
     "name": "stdout",
     "output_type": "stream",
     "text": [
      "2408\n"
     ]
    }
   ],
   "source": [
    "# Print unique players\n",
    "print(len(total_salary[\"player_id\"].unique()))"
   ]
  },
  {
   "cell_type": "code",
   "execution_count": 5,
   "id": "300066a6",
   "metadata": {
    "scrolled": true
   },
   "outputs": [
    {
     "data": {
      "text/html": [
       "<div>\n",
       "<style scoped>\n",
       "    .dataframe tbody tr th:only-of-type {\n",
       "        vertical-align: middle;\n",
       "    }\n",
       "\n",
       "    .dataframe tbody tr th {\n",
       "        vertical-align: top;\n",
       "    }\n",
       "\n",
       "    .dataframe thead th {\n",
       "        text-align: right;\n",
       "    }\n",
       "</style>\n",
       "<table border=\"1\" class=\"dataframe\">\n",
       "  <thead>\n",
       "    <tr style=\"text-align: right;\">\n",
       "      <th></th>\n",
       "      <th>salary</th>\n",
       "    </tr>\n",
       "    <tr>\n",
       "      <th>player_id</th>\n",
       "      <th></th>\n",
       "    </tr>\n",
       "  </thead>\n",
       "  <tbody>\n",
       "    <tr>\n",
       "      <th>abdelal01</th>\n",
       "      <td>2844000</td>\n",
       "    </tr>\n",
       "    <tr>\n",
       "      <th>abdulka01</th>\n",
       "      <td>8560000</td>\n",
       "    </tr>\n",
       "    <tr>\n",
       "      <th>abdulma02</th>\n",
       "      <td>19849500</td>\n",
       "    </tr>\n",
       "    <tr>\n",
       "      <th>abdulta01</th>\n",
       "      <td>37982800</td>\n",
       "    </tr>\n",
       "    <tr>\n",
       "      <th>abdursh01</th>\n",
       "      <td>95866000</td>\n",
       "    </tr>\n",
       "  </tbody>\n",
       "</table>\n",
       "</div>"
      ],
      "text/plain": [
       "             salary\n",
       "player_id          \n",
       "abdelal01   2844000\n",
       "abdulka01   8560000\n",
       "abdulma02  19849500\n",
       "abdulta01  37982800\n",
       "abdursh01  95866000"
      ]
     },
     "execution_count": 5,
     "metadata": {},
     "output_type": "execute_result"
    }
   ],
   "source": [
    "player_salary = total_salary.groupby(['player_id']).sum()\n",
    "player_salary.head()"
   ]
  },
  {
   "cell_type": "code",
   "execution_count": 6,
   "id": "53085822-ebc1-44cb-9059-bd43b5d1a026",
   "metadata": {},
   "outputs": [
    {
     "data": {
      "text/plain": [
       "salary    2408\n",
       "dtype: int64"
      ]
     },
     "execution_count": 6,
     "metadata": {},
     "output_type": "execute_result"
    }
   ],
   "source": [
    "# Print total rows\n",
    "player_salary.count()"
   ]
  },
  {
   "cell_type": "code",
   "execution_count": 7,
   "id": "37ec6129-dc94-4ee8-8802-db1592e1a864",
   "metadata": {},
   "outputs": [
    {
     "data": {
      "text/html": [
       "<div>\n",
       "<style scoped>\n",
       "    .dataframe tbody tr th:only-of-type {\n",
       "        vertical-align: middle;\n",
       "    }\n",
       "\n",
       "    .dataframe tbody tr th {\n",
       "        vertical-align: top;\n",
       "    }\n",
       "\n",
       "    .dataframe thead th {\n",
       "        text-align: right;\n",
       "    }\n",
       "</style>\n",
       "<table border=\"1\" class=\"dataframe\">\n",
       "  <thead>\n",
       "    <tr style=\"text-align: right;\">\n",
       "      <th></th>\n",
       "      <th>Total Earnings</th>\n",
       "    </tr>\n",
       "    <tr>\n",
       "      <th>_id</th>\n",
       "      <th></th>\n",
       "    </tr>\n",
       "  </thead>\n",
       "  <tbody>\n",
       "    <tr>\n",
       "      <th>abdelal01</th>\n",
       "      <td>2844000</td>\n",
       "    </tr>\n",
       "    <tr>\n",
       "      <th>abdulka01</th>\n",
       "      <td>8560000</td>\n",
       "    </tr>\n",
       "    <tr>\n",
       "      <th>abdulma02</th>\n",
       "      <td>19849500</td>\n",
       "    </tr>\n",
       "    <tr>\n",
       "      <th>abdulta01</th>\n",
       "      <td>37982800</td>\n",
       "    </tr>\n",
       "    <tr>\n",
       "      <th>abdursh01</th>\n",
       "      <td>95866000</td>\n",
       "    </tr>\n",
       "    <tr>\n",
       "      <th>...</th>\n",
       "      <td>...</td>\n",
       "    </tr>\n",
       "    <tr>\n",
       "      <th>zidekge01</th>\n",
       "      <td>2081200</td>\n",
       "    </tr>\n",
       "    <tr>\n",
       "      <th>zimmest01</th>\n",
       "      <td>950000</td>\n",
       "    </tr>\n",
       "    <tr>\n",
       "      <th>zipsepa01</th>\n",
       "      <td>2062611</td>\n",
       "    </tr>\n",
       "    <tr>\n",
       "      <th>zizican01</th>\n",
       "      <td>1645200</td>\n",
       "    </tr>\n",
       "    <tr>\n",
       "      <th>zubaciv01</th>\n",
       "      <td>2347567</td>\n",
       "    </tr>\n",
       "  </tbody>\n",
       "</table>\n",
       "<p>2408 rows × 1 columns</p>\n",
       "</div>"
      ],
      "text/plain": [
       "           Total Earnings\n",
       "_id                      \n",
       "abdelal01         2844000\n",
       "abdulka01         8560000\n",
       "abdulma02        19849500\n",
       "abdulta01        37982800\n",
       "abdursh01        95866000\n",
       "...                   ...\n",
       "zidekge01         2081200\n",
       "zimmest01          950000\n",
       "zipsepa01         2062611\n",
       "zizican01         1645200\n",
       "zubaciv01         2347567\n",
       "\n",
       "[2408 rows x 1 columns]"
      ]
     },
     "execution_count": 7,
     "metadata": {},
     "output_type": "execute_result"
    }
   ],
   "source": [
    "# Rename player id and salary for merging\n",
    "player_salary.index.rename(\"_id\", inplace=True)\n",
    "player_salary.rename(columns={\"salary\": \"Total Earnings\"}, inplace=True)\n",
    "player_salary"
   ]
  },
  {
   "cell_type": "code",
   "execution_count": 8,
   "id": "42956098",
   "metadata": {},
   "outputs": [],
   "source": [
    "# Push clean csv files\n",
    "filepath = Path('Resources/cleaned_salary_data.csv')  \n",
    "filepath.parent.mkdir(parents=True, exist_ok=True)  \n",
    "player_salary.to_csv(filepath) "
   ]
  },
  {
   "cell_type": "code",
   "execution_count": null,
   "id": "077225ac-9769-4f5b-ac18-d8c7348d92b2",
   "metadata": {},
   "outputs": [],
   "source": []
  }
 ],
 "metadata": {
  "kernelspec": {
   "display_name": "Python 3 (ipykernel)",
   "language": "python",
   "name": "python3"
  },
  "language_info": {
   "codemirror_mode": {
    "name": "ipython",
    "version": 3
   },
   "file_extension": ".py",
   "mimetype": "text/x-python",
   "name": "python",
   "nbconvert_exporter": "python",
   "pygments_lexer": "ipython3",
   "version": "3.10.13"
  }
 },
 "nbformat": 4,
 "nbformat_minor": 5
}
