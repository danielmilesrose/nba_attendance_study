{
 "cells": [
  {
   "cell_type": "markdown",
   "id": "34a965b2-4521-4cc8-9685-728df6238468",
   "metadata": {},
   "source": [
    "# NBA Salary Data Visualizing"
   ]
  },
  {
   "cell_type": "code",
   "execution_count": 1,
   "id": "fee07c29",
   "metadata": {},
   "outputs": [],
   "source": [
    "# Dependencies and Setup\n",
    "import pandas as pd \n",
    "from pathlib import Path\n",
    "import warnings\n",
    "warnings.filterwarnings('ignore')"
   ]
  },
  {
   "cell_type": "code",
   "execution_count": 2,
   "id": "5938d7fe",
   "metadata": {},
   "outputs": [
    {
     "data": {
      "text/html": [
       "<div>\n",
       "<style scoped>\n",
       "    .dataframe tbody tr th:only-of-type {\n",
       "        vertical-align: middle;\n",
       "    }\n",
       "\n",
       "    .dataframe tbody tr th {\n",
       "        vertical-align: top;\n",
       "    }\n",
       "\n",
       "    .dataframe thead th {\n",
       "        text-align: right;\n",
       "    }\n",
       "</style>\n",
       "<table border=\"1\" class=\"dataframe\">\n",
       "  <thead>\n",
       "    <tr style=\"text-align: right;\">\n",
       "      <th></th>\n",
       "      <th>index</th>\n",
       "      <th>league</th>\n",
       "      <th>player_id</th>\n",
       "      <th>salary</th>\n",
       "      <th>season</th>\n",
       "      <th>season_end</th>\n",
       "      <th>season_start</th>\n",
       "      <th>team</th>\n",
       "    </tr>\n",
       "  </thead>\n",
       "  <tbody>\n",
       "    <tr>\n",
       "      <th>0</th>\n",
       "      <td>0</td>\n",
       "      <td>NBA</td>\n",
       "      <td>abdelal01</td>\n",
       "      <td>395000</td>\n",
       "      <td>1990-91</td>\n",
       "      <td>1991</td>\n",
       "      <td>1990</td>\n",
       "      <td>Portland Trail Blazers</td>\n",
       "    </tr>\n",
       "    <tr>\n",
       "      <th>1</th>\n",
       "      <td>1</td>\n",
       "      <td>NBA</td>\n",
       "      <td>abdelal01</td>\n",
       "      <td>494000</td>\n",
       "      <td>1991-92</td>\n",
       "      <td>1992</td>\n",
       "      <td>1991</td>\n",
       "      <td>Portland Trail Blazers</td>\n",
       "    </tr>\n",
       "    <tr>\n",
       "      <th>2</th>\n",
       "      <td>2</td>\n",
       "      <td>NBA</td>\n",
       "      <td>abdelal01</td>\n",
       "      <td>500000</td>\n",
       "      <td>1992-93</td>\n",
       "      <td>1993</td>\n",
       "      <td>1992</td>\n",
       "      <td>Boston Celtics</td>\n",
       "    </tr>\n",
       "    <tr>\n",
       "      <th>3</th>\n",
       "      <td>3</td>\n",
       "      <td>NBA</td>\n",
       "      <td>abdelal01</td>\n",
       "      <td>805000</td>\n",
       "      <td>1993-94</td>\n",
       "      <td>1994</td>\n",
       "      <td>1993</td>\n",
       "      <td>Boston Celtics</td>\n",
       "    </tr>\n",
       "    <tr>\n",
       "      <th>4</th>\n",
       "      <td>4</td>\n",
       "      <td>NBA</td>\n",
       "      <td>abdelal01</td>\n",
       "      <td>650000</td>\n",
       "      <td>1994-95</td>\n",
       "      <td>1995</td>\n",
       "      <td>1994</td>\n",
       "      <td>Sacramento Kings</td>\n",
       "    </tr>\n",
       "  </tbody>\n",
       "</table>\n",
       "</div>"
      ],
      "text/plain": [
       "   index league  player_id  salary   season  season_end  season_start  \\\n",
       "0      0    NBA  abdelal01  395000  1990-91        1991          1990   \n",
       "1      1    NBA  abdelal01  494000  1991-92        1992          1991   \n",
       "2      2    NBA  abdelal01  500000  1992-93        1993          1992   \n",
       "3      3    NBA  abdelal01  805000  1993-94        1994          1993   \n",
       "4      4    NBA  abdelal01  650000  1994-95        1995          1994   \n",
       "\n",
       "                     team  \n",
       "0  Portland Trail Blazers  \n",
       "1  Portland Trail Blazers  \n",
       "2          Boston Celtics  \n",
       "3          Boston Celtics  \n",
       "4        Sacramento Kings  "
      ]
     },
     "execution_count": 2,
     "metadata": {},
     "output_type": "execute_result"
    }
   ],
   "source": [
    "# Pull CSV\n",
    "salary_df = pd.read_csv(\"Resources/salaries_1985to2018.csv\")\n",
    "salary_df.head()"
   ]
  },
  {
   "cell_type": "code",
   "execution_count": 3,
   "id": "5cf8b53a-780b-480e-b369-37509e513e41",
   "metadata": {},
   "outputs": [
    {
     "data": {
      "text/html": [
       "<div>\n",
       "<style scoped>\n",
       "    .dataframe tbody tr th:only-of-type {\n",
       "        vertical-align: middle;\n",
       "    }\n",
       "\n",
       "    .dataframe tbody tr th {\n",
       "        vertical-align: top;\n",
       "    }\n",
       "\n",
       "    .dataframe thead th {\n",
       "        text-align: right;\n",
       "    }\n",
       "</style>\n",
       "<table border=\"1\" class=\"dataframe\">\n",
       "  <thead>\n",
       "    <tr style=\"text-align: right;\">\n",
       "      <th></th>\n",
       "      <th>index</th>\n",
       "      <th>league</th>\n",
       "      <th>player_id</th>\n",
       "      <th>salary</th>\n",
       "      <th>season</th>\n",
       "      <th>season_end</th>\n",
       "      <th>season_start</th>\n",
       "      <th>team</th>\n",
       "      <th>DATE</th>\n",
       "    </tr>\n",
       "  </thead>\n",
       "  <tbody>\n",
       "    <tr>\n",
       "      <th>0</th>\n",
       "      <td>0</td>\n",
       "      <td>NBA</td>\n",
       "      <td>abdelal01</td>\n",
       "      <td>395000</td>\n",
       "      <td>1990-91</td>\n",
       "      <td>1991</td>\n",
       "      <td>1990</td>\n",
       "      <td>Portland Trail Blazers</td>\n",
       "      <td>1990-01-01</td>\n",
       "    </tr>\n",
       "    <tr>\n",
       "      <th>1</th>\n",
       "      <td>1</td>\n",
       "      <td>NBA</td>\n",
       "      <td>abdelal01</td>\n",
       "      <td>494000</td>\n",
       "      <td>1991-92</td>\n",
       "      <td>1992</td>\n",
       "      <td>1991</td>\n",
       "      <td>Portland Trail Blazers</td>\n",
       "      <td>1991-01-01</td>\n",
       "    </tr>\n",
       "    <tr>\n",
       "      <th>2</th>\n",
       "      <td>2</td>\n",
       "      <td>NBA</td>\n",
       "      <td>abdelal01</td>\n",
       "      <td>500000</td>\n",
       "      <td>1992-93</td>\n",
       "      <td>1993</td>\n",
       "      <td>1992</td>\n",
       "      <td>Boston Celtics</td>\n",
       "      <td>1992-01-01</td>\n",
       "    </tr>\n",
       "    <tr>\n",
       "      <th>3</th>\n",
       "      <td>3</td>\n",
       "      <td>NBA</td>\n",
       "      <td>abdelal01</td>\n",
       "      <td>805000</td>\n",
       "      <td>1993-94</td>\n",
       "      <td>1994</td>\n",
       "      <td>1993</td>\n",
       "      <td>Boston Celtics</td>\n",
       "      <td>1993-01-01</td>\n",
       "    </tr>\n",
       "    <tr>\n",
       "      <th>4</th>\n",
       "      <td>4</td>\n",
       "      <td>NBA</td>\n",
       "      <td>abdelal01</td>\n",
       "      <td>650000</td>\n",
       "      <td>1994-95</td>\n",
       "      <td>1995</td>\n",
       "      <td>1994</td>\n",
       "      <td>Sacramento Kings</td>\n",
       "      <td>1994-01-01</td>\n",
       "    </tr>\n",
       "  </tbody>\n",
       "</table>\n",
       "</div>"
      ],
      "text/plain": [
       "   index league  player_id  salary   season  season_end  season_start  \\\n",
       "0      0    NBA  abdelal01  395000  1990-91        1991          1990   \n",
       "1      1    NBA  abdelal01  494000  1991-92        1992          1991   \n",
       "2      2    NBA  abdelal01  500000  1992-93        1993          1992   \n",
       "3      3    NBA  abdelal01  805000  1993-94        1994          1993   \n",
       "4      4    NBA  abdelal01  650000  1994-95        1995          1994   \n",
       "\n",
       "                     team       DATE  \n",
       "0  Portland Trail Blazers 1990-01-01  \n",
       "1  Portland Trail Blazers 1991-01-01  \n",
       "2          Boston Celtics 1992-01-01  \n",
       "3          Boston Celtics 1993-01-01  \n",
       "4        Sacramento Kings 1994-01-01  "
      ]
     },
     "execution_count": 3,
     "metadata": {},
     "output_type": "execute_result"
    }
   ],
   "source": [
    "# Create DATE column for merging later\n",
    "salary_df[\"DATE\"] = pd.to_datetime(salary_df[\"season_start\"].astype(str) + \"-01-01\")\n",
    "salary_df.head()"
   ]
  },
  {
   "cell_type": "code",
   "execution_count": 4,
   "id": "3b540db4-bcd4-4edb-9767-a5b4aec95e72",
   "metadata": {},
   "outputs": [
    {
     "name": "stdout",
     "output_type": "stream",
     "text": [
      "2408\n"
     ]
    }
   ],
   "source": [
    "# Print unique players\n",
    "print(len(salary_df[\"player_id\"].unique()))"
   ]
  },
  {
   "cell_type": "markdown",
   "id": "75e9af09",
   "metadata": {},
   "source": [
    "# Adjusting for Inflation\n",
    "All inflation rate is as of 09/01/2023"
   ]
  },
  {
   "cell_type": "code",
   "execution_count": 5,
   "id": "d5981db1-75a4-430d-9087-a959d936a54c",
   "metadata": {},
   "outputs": [
    {
     "data": {
      "text/html": [
       "<div>\n",
       "<style scoped>\n",
       "    .dataframe tbody tr th:only-of-type {\n",
       "        vertical-align: middle;\n",
       "    }\n",
       "\n",
       "    .dataframe tbody tr th {\n",
       "        vertical-align: top;\n",
       "    }\n",
       "\n",
       "    .dataframe thead th {\n",
       "        text-align: right;\n",
       "    }\n",
       "</style>\n",
       "<table border=\"1\" class=\"dataframe\">\n",
       "  <thead>\n",
       "    <tr style=\"text-align: right;\">\n",
       "      <th></th>\n",
       "      <th>DATE</th>\n",
       "      <th>CPIAUCNS</th>\n",
       "    </tr>\n",
       "  </thead>\n",
       "  <tbody>\n",
       "    <tr>\n",
       "      <th>0</th>\n",
       "      <td>1913-01-01</td>\n",
       "      <td>9.8</td>\n",
       "    </tr>\n",
       "    <tr>\n",
       "      <th>1</th>\n",
       "      <td>1913-02-01</td>\n",
       "      <td>9.8</td>\n",
       "    </tr>\n",
       "    <tr>\n",
       "      <th>2</th>\n",
       "      <td>1913-03-01</td>\n",
       "      <td>9.8</td>\n",
       "    </tr>\n",
       "    <tr>\n",
       "      <th>3</th>\n",
       "      <td>1913-04-01</td>\n",
       "      <td>9.8</td>\n",
       "    </tr>\n",
       "    <tr>\n",
       "      <th>4</th>\n",
       "      <td>1913-05-01</td>\n",
       "      <td>9.7</td>\n",
       "    </tr>\n",
       "  </tbody>\n",
       "</table>\n",
       "</div>"
      ],
      "text/plain": [
       "         DATE  CPIAUCNS\n",
       "0  1913-01-01       9.8\n",
       "1  1913-02-01       9.8\n",
       "2  1913-03-01       9.8\n",
       "3  1913-04-01       9.8\n",
       "4  1913-05-01       9.7"
      ]
     },
     "execution_count": 5,
     "metadata": {},
     "output_type": "execute_result"
    }
   ],
   "source": [
    "# Pull CPI CSV to adjust for inflation\n",
    "cpi_data = pd.read_csv('Resources/CPIAUCNS.csv')\n",
    "cpi_data.head()"
   ]
  },
  {
   "cell_type": "code",
   "execution_count": 6,
   "id": "b72d4724-a637-4c2f-9aa0-5c1c0329474b",
   "metadata": {},
   "outputs": [
    {
     "data": {
      "text/html": [
       "<div>\n",
       "<style scoped>\n",
       "    .dataframe tbody tr th:only-of-type {\n",
       "        vertical-align: middle;\n",
       "    }\n",
       "\n",
       "    .dataframe tbody tr th {\n",
       "        vertical-align: top;\n",
       "    }\n",
       "\n",
       "    .dataframe thead th {\n",
       "        text-align: right;\n",
       "    }\n",
       "</style>\n",
       "<table border=\"1\" class=\"dataframe\">\n",
       "  <thead>\n",
       "    <tr style=\"text-align: right;\">\n",
       "      <th></th>\n",
       "      <th>DATE</th>\n",
       "      <th>CPIAUCNS</th>\n",
       "      <th>CPI_rate</th>\n",
       "    </tr>\n",
       "  </thead>\n",
       "  <tbody>\n",
       "    <tr>\n",
       "      <th>0</th>\n",
       "      <td>1913-01-01</td>\n",
       "      <td>9.8</td>\n",
       "      <td>31.407041</td>\n",
       "    </tr>\n",
       "    <tr>\n",
       "      <th>1</th>\n",
       "      <td>1913-02-01</td>\n",
       "      <td>9.8</td>\n",
       "      <td>31.407041</td>\n",
       "    </tr>\n",
       "    <tr>\n",
       "      <th>2</th>\n",
       "      <td>1913-03-01</td>\n",
       "      <td>9.8</td>\n",
       "      <td>31.407041</td>\n",
       "    </tr>\n",
       "    <tr>\n",
       "      <th>3</th>\n",
       "      <td>1913-04-01</td>\n",
       "      <td>9.8</td>\n",
       "      <td>31.407041</td>\n",
       "    </tr>\n",
       "    <tr>\n",
       "      <th>4</th>\n",
       "      <td>1913-05-01</td>\n",
       "      <td>9.7</td>\n",
       "      <td>31.730825</td>\n",
       "    </tr>\n",
       "  </tbody>\n",
       "</table>\n",
       "</div>"
      ],
      "text/plain": [
       "        DATE  CPIAUCNS   CPI_rate\n",
       "0 1913-01-01       9.8  31.407041\n",
       "1 1913-02-01       9.8  31.407041\n",
       "2 1913-03-01       9.8  31.407041\n",
       "3 1913-04-01       9.8  31.407041\n",
       "4 1913-05-01       9.7  31.730825"
      ]
     },
     "execution_count": 6,
     "metadata": {},
     "output_type": "execute_result"
    }
   ],
   "source": [
    "# Create new column to adjust each year to Sep. 01 2023\n",
    "cpi_data['CPI_rate'] = cpi_data['CPIAUCNS'].iloc[-1]/cpi_data['CPIAUCNS']\n",
    "cpi_data['DATE'] = pd.to_datetime(cpi_data['DATE'])\n",
    "cpi_data.head()"
   ]
  },
  {
   "cell_type": "code",
   "execution_count": 7,
   "id": "838ccf86-5f3c-462d-a6b4-742712b2adc0",
   "metadata": {},
   "outputs": [
    {
     "data": {
      "text/html": [
       "<div>\n",
       "<style scoped>\n",
       "    .dataframe tbody tr th:only-of-type {\n",
       "        vertical-align: middle;\n",
       "    }\n",
       "\n",
       "    .dataframe tbody tr th {\n",
       "        vertical-align: top;\n",
       "    }\n",
       "\n",
       "    .dataframe thead th {\n",
       "        text-align: right;\n",
       "    }\n",
       "</style>\n",
       "<table border=\"1\" class=\"dataframe\">\n",
       "  <thead>\n",
       "    <tr style=\"text-align: right;\">\n",
       "      <th></th>\n",
       "      <th>index</th>\n",
       "      <th>league</th>\n",
       "      <th>player_id</th>\n",
       "      <th>salary</th>\n",
       "      <th>season</th>\n",
       "      <th>season_end</th>\n",
       "      <th>season_start</th>\n",
       "      <th>team</th>\n",
       "      <th>DATE</th>\n",
       "      <th>CPIAUCNS</th>\n",
       "      <th>CPI_rate</th>\n",
       "      <th>inflation_adjusted_salary</th>\n",
       "    </tr>\n",
       "  </thead>\n",
       "  <tbody>\n",
       "    <tr>\n",
       "      <th>0</th>\n",
       "      <td>0</td>\n",
       "      <td>NBA</td>\n",
       "      <td>abdelal01</td>\n",
       "      <td>395000</td>\n",
       "      <td>1990-91</td>\n",
       "      <td>1991</td>\n",
       "      <td>1990</td>\n",
       "      <td>Portland Trail Blazers</td>\n",
       "      <td>1990-01-01</td>\n",
       "      <td>127.4</td>\n",
       "      <td>2.415926</td>\n",
       "      <td>9.542909e+05</td>\n",
       "    </tr>\n",
       "    <tr>\n",
       "      <th>1</th>\n",
       "      <td>1</td>\n",
       "      <td>NBA</td>\n",
       "      <td>abdelal01</td>\n",
       "      <td>494000</td>\n",
       "      <td>1991-92</td>\n",
       "      <td>1992</td>\n",
       "      <td>1991</td>\n",
       "      <td>Portland Trail Blazers</td>\n",
       "      <td>1991-01-01</td>\n",
       "      <td>134.6</td>\n",
       "      <td>2.286694</td>\n",
       "      <td>1.129627e+06</td>\n",
       "    </tr>\n",
       "    <tr>\n",
       "      <th>2</th>\n",
       "      <td>2</td>\n",
       "      <td>NBA</td>\n",
       "      <td>abdelal01</td>\n",
       "      <td>500000</td>\n",
       "      <td>1992-93</td>\n",
       "      <td>1993</td>\n",
       "      <td>1992</td>\n",
       "      <td>Boston Celtics</td>\n",
       "      <td>1992-01-01</td>\n",
       "      <td>138.1</td>\n",
       "      <td>2.228740</td>\n",
       "      <td>1.114370e+06</td>\n",
       "    </tr>\n",
       "    <tr>\n",
       "      <th>3</th>\n",
       "      <td>3</td>\n",
       "      <td>NBA</td>\n",
       "      <td>abdelal01</td>\n",
       "      <td>805000</td>\n",
       "      <td>1993-94</td>\n",
       "      <td>1994</td>\n",
       "      <td>1993</td>\n",
       "      <td>Boston Celtics</td>\n",
       "      <td>1993-01-01</td>\n",
       "      <td>142.6</td>\n",
       "      <td>2.158408</td>\n",
       "      <td>1.737519e+06</td>\n",
       "    </tr>\n",
       "    <tr>\n",
       "      <th>4</th>\n",
       "      <td>4</td>\n",
       "      <td>NBA</td>\n",
       "      <td>abdelal01</td>\n",
       "      <td>650000</td>\n",
       "      <td>1994-95</td>\n",
       "      <td>1995</td>\n",
       "      <td>1994</td>\n",
       "      <td>Sacramento Kings</td>\n",
       "      <td>1994-01-01</td>\n",
       "      <td>146.2</td>\n",
       "      <td>2.105260</td>\n",
       "      <td>1.368419e+06</td>\n",
       "    </tr>\n",
       "  </tbody>\n",
       "</table>\n",
       "</div>"
      ],
      "text/plain": [
       "   index league  player_id  salary   season  season_end  season_start  \\\n",
       "0      0    NBA  abdelal01  395000  1990-91        1991          1990   \n",
       "1      1    NBA  abdelal01  494000  1991-92        1992          1991   \n",
       "2      2    NBA  abdelal01  500000  1992-93        1993          1992   \n",
       "3      3    NBA  abdelal01  805000  1993-94        1994          1993   \n",
       "4      4    NBA  abdelal01  650000  1994-95        1995          1994   \n",
       "\n",
       "                     team       DATE  CPIAUCNS  CPI_rate  \\\n",
       "0  Portland Trail Blazers 1990-01-01     127.4  2.415926   \n",
       "1  Portland Trail Blazers 1991-01-01     134.6  2.286694   \n",
       "2          Boston Celtics 1992-01-01     138.1  2.228740   \n",
       "3          Boston Celtics 1993-01-01     142.6  2.158408   \n",
       "4        Sacramento Kings 1994-01-01     146.2  2.105260   \n",
       "\n",
       "   inflation_adjusted_salary  \n",
       "0               9.542909e+05  \n",
       "1               1.129627e+06  \n",
       "2               1.114370e+06  \n",
       "3               1.737519e+06  \n",
       "4               1.368419e+06  "
      ]
     },
     "execution_count": 7,
     "metadata": {},
     "output_type": "execute_result"
    }
   ],
   "source": [
    "# Create Inflation Adjusted Salary column\n",
    "total_salary2 = pd.merge(salary_df, cpi_data, how=\"left\", on=\"DATE\")\n",
    "total_salary2['inflation_adjusted_salary'] = total_salary2[\"salary\"] * total_salary2[\"CPI_rate\"]\n",
    "total_salary2.head()"
   ]
  },
  {
   "cell_type": "code",
   "execution_count": 8,
   "id": "f6e0d504",
   "metadata": {},
   "outputs": [
    {
     "data": {
      "text/html": [
       "<div>\n",
       "<style scoped>\n",
       "    .dataframe tbody tr th:only-of-type {\n",
       "        vertical-align: middle;\n",
       "    }\n",
       "\n",
       "    .dataframe tbody tr th {\n",
       "        vertical-align: top;\n",
       "    }\n",
       "\n",
       "    .dataframe thead th {\n",
       "        text-align: right;\n",
       "    }\n",
       "</style>\n",
       "<table border=\"1\" class=\"dataframe\">\n",
       "  <thead>\n",
       "    <tr style=\"text-align: right;\">\n",
       "      <th></th>\n",
       "      <th>player_id</th>\n",
       "      <th>salary</th>\n",
       "      <th>inflation_adjusted_salary</th>\n",
       "    </tr>\n",
       "  </thead>\n",
       "  <tbody>\n",
       "    <tr>\n",
       "      <th>0</th>\n",
       "      <td>abdelal01</td>\n",
       "      <td>395000</td>\n",
       "      <td>9.542909e+05</td>\n",
       "    </tr>\n",
       "    <tr>\n",
       "      <th>1</th>\n",
       "      <td>abdelal01</td>\n",
       "      <td>494000</td>\n",
       "      <td>1.129627e+06</td>\n",
       "    </tr>\n",
       "    <tr>\n",
       "      <th>2</th>\n",
       "      <td>abdelal01</td>\n",
       "      <td>500000</td>\n",
       "      <td>1.114370e+06</td>\n",
       "    </tr>\n",
       "    <tr>\n",
       "      <th>3</th>\n",
       "      <td>abdelal01</td>\n",
       "      <td>805000</td>\n",
       "      <td>1.737519e+06</td>\n",
       "    </tr>\n",
       "    <tr>\n",
       "      <th>4</th>\n",
       "      <td>abdelal01</td>\n",
       "      <td>650000</td>\n",
       "      <td>1.368419e+06</td>\n",
       "    </tr>\n",
       "  </tbody>\n",
       "</table>\n",
       "</div>"
      ],
      "text/plain": [
       "   player_id  salary  inflation_adjusted_salary\n",
       "0  abdelal01  395000               9.542909e+05\n",
       "1  abdelal01  494000               1.129627e+06\n",
       "2  abdelal01  500000               1.114370e+06\n",
       "3  abdelal01  805000               1.737519e+06\n",
       "4  abdelal01  650000               1.368419e+06"
      ]
     },
     "execution_count": 8,
     "metadata": {},
     "output_type": "execute_result"
    }
   ],
   "source": [
    "# Drop unnecessary columns\n",
    "# Drop unnecessary columns\n",
    "total_salary2 = total_salary2[['player_id', 'salary', 'inflation_adjusted_salary']]\n",
    "total_salary2.head()"
   ]
  },
  {
   "cell_type": "code",
   "execution_count": 9,
   "id": "37d01657",
   "metadata": {},
   "outputs": [
    {
     "name": "stdout",
     "output_type": "stream",
     "text": [
      "   player_id  salary  inflation_adjusted_salary\n",
      "0  abdelal01  395000               9.542909e+05\n",
      "1  abdelal01  494000               1.129627e+06\n",
      "2  abdelal01  500000               1.114370e+06\n",
      "3  abdelal01  805000               1.737519e+06\n",
      "4  abdelal01  650000               1.368419e+06\n",
      "Index(['player_id', 'salary', 'inflation_adjusted_salary'], dtype='object')\n"
     ]
    }
   ],
   "source": [
    "print(total_salary2.head())\n",
    "print(total_salary2.columns)"
   ]
  },
  {
   "cell_type": "code",
   "execution_count": 10,
   "id": "300066a6",
   "metadata": {
    "scrolled": true
   },
   "outputs": [
    {
     "data": {
      "text/html": [
       "<div>\n",
       "<style scoped>\n",
       "    .dataframe tbody tr th:only-of-type {\n",
       "        vertical-align: middle;\n",
       "    }\n",
       "\n",
       "    .dataframe tbody tr th {\n",
       "        vertical-align: top;\n",
       "    }\n",
       "\n",
       "    .dataframe thead th {\n",
       "        text-align: right;\n",
       "    }\n",
       "</style>\n",
       "<table border=\"1\" class=\"dataframe\">\n",
       "  <thead>\n",
       "    <tr style=\"text-align: right;\">\n",
       "      <th></th>\n",
       "      <th>salary</th>\n",
       "      <th>inflation_adjusted_salary</th>\n",
       "    </tr>\n",
       "    <tr>\n",
       "      <th>player_id</th>\n",
       "      <th></th>\n",
       "      <th></th>\n",
       "    </tr>\n",
       "  </thead>\n",
       "  <tbody>\n",
       "    <tr>\n",
       "      <th>abdelal01</th>\n",
       "      <td>2844000</td>\n",
       "      <td>6.304225e+06</td>\n",
       "    </tr>\n",
       "    <tr>\n",
       "      <th>abdulka01</th>\n",
       "      <td>8560000</td>\n",
       "      <td>2.406022e+07</td>\n",
       "    </tr>\n",
       "    <tr>\n",
       "      <th>abdulma02</th>\n",
       "      <td>19849500</td>\n",
       "      <td>4.177226e+07</td>\n",
       "    </tr>\n",
       "    <tr>\n",
       "      <th>abdulta01</th>\n",
       "      <td>37982800</td>\n",
       "      <td>6.558494e+07</td>\n",
       "    </tr>\n",
       "    <tr>\n",
       "      <th>abdursh01</th>\n",
       "      <td>95866000</td>\n",
       "      <td>1.630366e+08</td>\n",
       "    </tr>\n",
       "  </tbody>\n",
       "</table>\n",
       "</div>"
      ],
      "text/plain": [
       "             salary  inflation_adjusted_salary\n",
       "player_id                                     \n",
       "abdelal01   2844000               6.304225e+06\n",
       "abdulka01   8560000               2.406022e+07\n",
       "abdulma02  19849500               4.177226e+07\n",
       "abdulta01  37982800               6.558494e+07\n",
       "abdursh01  95866000               1.630366e+08"
      ]
     },
     "execution_count": 10,
     "metadata": {},
     "output_type": "execute_result"
    }
   ],
   "source": [
    "# Group by player id and the sum of salary and inflation-adjusted salary\n",
    "player_salary = total_salary2.groupby(['player_id']).sum()\n",
    "player_salary.head()"
   ]
  },
  {
   "cell_type": "code",
   "execution_count": 11,
   "id": "53085822-ebc1-44cb-9059-bd43b5d1a026",
   "metadata": {},
   "outputs": [
    {
     "data": {
      "text/plain": [
       "salary                       2408\n",
       "inflation_adjusted_salary    2408\n",
       "dtype: int64"
      ]
     },
     "execution_count": 11,
     "metadata": {},
     "output_type": "execute_result"
    }
   ],
   "source": [
    "# Print total rows\n",
    "player_salary.count()"
   ]
  },
  {
   "cell_type": "code",
   "execution_count": 12,
   "id": "bd70b342",
   "metadata": {},
   "outputs": [
    {
     "name": "stdout",
     "output_type": "stream",
     "text": [
      "   index league  player_id  salary   season  season_end  season_start  \\\n",
      "0      0    NBA  abdelal01  395000  1990-91        1991          1990   \n",
      "1      1    NBA  abdelal01  494000  1991-92        1992          1991   \n",
      "2      2    NBA  abdelal01  500000  1992-93        1993          1992   \n",
      "3      3    NBA  abdelal01  805000  1993-94        1994          1993   \n",
      "4      4    NBA  abdelal01  650000  1994-95        1995          1994   \n",
      "\n",
      "                     team       DATE  \n",
      "0  Portland Trail Blazers 1990-01-01  \n",
      "1  Portland Trail Blazers 1991-01-01  \n",
      "2          Boston Celtics 1992-01-01  \n",
      "3          Boston Celtics 1993-01-01  \n",
      "4        Sacramento Kings 1994-01-01  \n",
      "Index(['index', 'league', 'player_id', 'salary', 'season', 'season_end',\n",
      "       'season_start', 'team', 'DATE'],\n",
      "      dtype='object')\n"
     ]
    }
   ],
   "source": [
    "print(salary_df.head())\n",
    "print(salary_df.columns)"
   ]
  },
  {
   "cell_type": "code",
   "execution_count": 13,
   "id": "37ec6129-dc94-4ee8-8802-db1592e1a864",
   "metadata": {},
   "outputs": [
    {
     "data": {
      "text/html": [
       "<div>\n",
       "<style scoped>\n",
       "    .dataframe tbody tr th:only-of-type {\n",
       "        vertical-align: middle;\n",
       "    }\n",
       "\n",
       "    .dataframe tbody tr th {\n",
       "        vertical-align: top;\n",
       "    }\n",
       "\n",
       "    .dataframe thead th {\n",
       "        text-align: right;\n",
       "    }\n",
       "</style>\n",
       "<table border=\"1\" class=\"dataframe\">\n",
       "  <thead>\n",
       "    <tr style=\"text-align: right;\">\n",
       "      <th></th>\n",
       "      <th>Total Earnings</th>\n",
       "      <th>Inflation-Adjusted Earnings</th>\n",
       "    </tr>\n",
       "    <tr>\n",
       "      <th>_id</th>\n",
       "      <th></th>\n",
       "      <th></th>\n",
       "    </tr>\n",
       "  </thead>\n",
       "  <tbody>\n",
       "    <tr>\n",
       "      <th>abdelal01</th>\n",
       "      <td>2844000</td>\n",
       "      <td>6.304225e+06</td>\n",
       "    </tr>\n",
       "    <tr>\n",
       "      <th>abdulka01</th>\n",
       "      <td>8560000</td>\n",
       "      <td>2.406022e+07</td>\n",
       "    </tr>\n",
       "    <tr>\n",
       "      <th>abdulma02</th>\n",
       "      <td>19849500</td>\n",
       "      <td>4.177226e+07</td>\n",
       "    </tr>\n",
       "    <tr>\n",
       "      <th>abdulta01</th>\n",
       "      <td>37982800</td>\n",
       "      <td>6.558494e+07</td>\n",
       "    </tr>\n",
       "    <tr>\n",
       "      <th>abdursh01</th>\n",
       "      <td>95866000</td>\n",
       "      <td>1.630366e+08</td>\n",
       "    </tr>\n",
       "    <tr>\n",
       "      <th>...</th>\n",
       "      <td>...</td>\n",
       "      <td>...</td>\n",
       "    </tr>\n",
       "    <tr>\n",
       "      <th>zidekge01</th>\n",
       "      <td>2081200</td>\n",
       "      <td>4.135382e+06</td>\n",
       "    </tr>\n",
       "    <tr>\n",
       "      <th>zimmest01</th>\n",
       "      <td>950000</td>\n",
       "      <td>1.234191e+06</td>\n",
       "    </tr>\n",
       "    <tr>\n",
       "      <th>zipsepa01</th>\n",
       "      <td>2062611</td>\n",
       "      <td>2.638045e+06</td>\n",
       "    </tr>\n",
       "    <tr>\n",
       "      <th>zizican01</th>\n",
       "      <td>1645200</td>\n",
       "      <td>2.085227e+06</td>\n",
       "    </tr>\n",
       "    <tr>\n",
       "      <th>zubaciv01</th>\n",
       "      <td>2347567</td>\n",
       "      <td>3.008245e+06</td>\n",
       "    </tr>\n",
       "  </tbody>\n",
       "</table>\n",
       "<p>2408 rows × 2 columns</p>\n",
       "</div>"
      ],
      "text/plain": [
       "           Total Earnings  Inflation-Adjusted Earnings\n",
       "_id                                                   \n",
       "abdelal01         2844000                 6.304225e+06\n",
       "abdulka01         8560000                 2.406022e+07\n",
       "abdulma02        19849500                 4.177226e+07\n",
       "abdulta01        37982800                 6.558494e+07\n",
       "abdursh01        95866000                 1.630366e+08\n",
       "...                   ...                          ...\n",
       "zidekge01         2081200                 4.135382e+06\n",
       "zimmest01          950000                 1.234191e+06\n",
       "zipsepa01         2062611                 2.638045e+06\n",
       "zizican01         1645200                 2.085227e+06\n",
       "zubaciv01         2347567                 3.008245e+06\n",
       "\n",
       "[2408 rows x 2 columns]"
      ]
     },
     "execution_count": 13,
     "metadata": {},
     "output_type": "execute_result"
    }
   ],
   "source": [
    "# Rename player id and salary for merging\n",
    "player_salary.index.rename(\"_id\", inplace=True)\n",
    "player_salary.rename(columns={\"salary\": \"Total Earnings\", \"inflation_adjusted_salary\": \"Inflation-Adjusted Earnings\"}, inplace=True)\n",
    "player_salary"
   ]
  },
  {
   "cell_type": "code",
   "execution_count": 14,
   "id": "bba3395a-7577-4615-a9d0-2c2d51e4468a",
   "metadata": {},
   "outputs": [
    {
     "data": {
      "text/html": [
       "<div>\n",
       "<style scoped>\n",
       "    .dataframe tbody tr th:only-of-type {\n",
       "        vertical-align: middle;\n",
       "    }\n",
       "\n",
       "    .dataframe tbody tr th {\n",
       "        vertical-align: top;\n",
       "    }\n",
       "\n",
       "    .dataframe thead th {\n",
       "        text-align: right;\n",
       "    }\n",
       "</style>\n",
       "<table border=\"1\" class=\"dataframe\">\n",
       "  <thead>\n",
       "    <tr style=\"text-align: right;\">\n",
       "      <th></th>\n",
       "      <th>Total Earnings</th>\n",
       "      <th>Inflation-Adjusted Earnings</th>\n",
       "    </tr>\n",
       "    <tr>\n",
       "      <th>_id</th>\n",
       "      <th></th>\n",
       "      <th></th>\n",
       "    </tr>\n",
       "  </thead>\n",
       "  <tbody>\n",
       "    <tr>\n",
       "      <th>abdelal01</th>\n",
       "      <td>$2,844,000.00</td>\n",
       "      <td>$6,304,225.16</td>\n",
       "    </tr>\n",
       "    <tr>\n",
       "      <th>abdulka01</th>\n",
       "      <td>$8,560,000.00</td>\n",
       "      <td>$24,060,224.72</td>\n",
       "    </tr>\n",
       "    <tr>\n",
       "      <th>abdulma02</th>\n",
       "      <td>$19,849,500.00</td>\n",
       "      <td>$41,772,255.61</td>\n",
       "    </tr>\n",
       "    <tr>\n",
       "      <th>abdulta01</th>\n",
       "      <td>$37,982,800.00</td>\n",
       "      <td>$65,584,943.25</td>\n",
       "    </tr>\n",
       "    <tr>\n",
       "      <th>abdursh01</th>\n",
       "      <td>$95,866,000.00</td>\n",
       "      <td>$163,036,582.98</td>\n",
       "    </tr>\n",
       "  </tbody>\n",
       "</table>\n",
       "</div>"
      ],
      "text/plain": [
       "           Total Earnings Inflation-Adjusted Earnings\n",
       "_id                                                  \n",
       "abdelal01   $2,844,000.00               $6,304,225.16\n",
       "abdulka01   $8,560,000.00              $24,060,224.72\n",
       "abdulma02  $19,849,500.00              $41,772,255.61\n",
       "abdulta01  $37,982,800.00              $65,584,943.25\n",
       "abdursh01  $95,866,000.00             $163,036,582.98"
      ]
     },
     "execution_count": 14,
     "metadata": {},
     "output_type": "execute_result"
    }
   ],
   "source": [
    "# Create Salary DataFrame with readable salaries\n",
    "player_salary2 = player_salary.copy()\n",
    "player_salary2[\"Total Earnings\"] = player_salary2[\"Total Earnings\"].map(\"${:,.2f}\".format)\n",
    "player_salary2[\"Inflation-Adjusted Earnings\"] = player_salary2[\"Inflation-Adjusted Earnings\"].map(\"${:,.2f}\".format)\n",
    "player_salary2.head()"
   ]
  },
  {
   "cell_type": "code",
   "execution_count": 15,
   "id": "42956098",
   "metadata": {},
   "outputs": [],
   "source": [
    "# Push clean csv files\n",
    "filepath = Path('Resources/cleaned_salary_data.csv')  \n",
    "filepath.parent.mkdir(parents=True, exist_ok=True)  \n",
    "player_salary.to_csv(filepath)"
   ]
  },
  {
   "cell_type": "code",
   "execution_count": 16,
   "id": "2fa0e272",
   "metadata": {},
   "outputs": [
    {
     "name": "stdout",
     "output_type": "stream",
     "text": [
      "Index(['player_id', 'salary', 'inflation_adjusted_salary'], dtype='object')\n"
     ]
    }
   ],
   "source": [
    "print(total_salary2.columns)"
   ]
  },
  {
   "cell_type": "markdown",
   "id": "e8856c9b",
   "metadata": {},
   "source": [
    "# Histogram"
   ]
  },
  {
   "cell_type": "code",
   "execution_count": 17,
   "id": "52f13b6f",
   "metadata": {},
   "outputs": [],
   "source": [
    "import matplotlib.pyplot as plt"
   ]
  },
  {
   "cell_type": "code",
   "execution_count": 18,
   "id": "16c9d9ae",
   "metadata": {},
   "outputs": [
    {
     "data": {
      "image/png": "[encoded data removed]",
      "text/plain": [
       "<Figure size 1200x600 with 1 Axes>"
      ]
     },
     "metadata": {},
     "output_type": "display_data"
    }
   ],
   "source": [
    "#Distribution of Player Salaries\n",
    "plt.figure(figsize=(12, 6))\n",
    "plt.hist(player_salary['Total Earnings'], bins=30, edgecolor='black')\n",
    "plt.title('Distribution of Player Salaries')\n",
    "plt.xlabel('Salary Amount')\n",
    "plt.ylabel('Number of Players')\n",
    "plt.show()"
   ]
  },
  {
   "cell_type": "code",
   "execution_count": 20,
   "id": "737879a7",
   "metadata": {},
   "outputs": [
    {
     "data": {
      "image/png": "[encoded data removed]",
      "text/plain": [
       "<Figure size 1200x600 with 1 Axes>"
      ]
     },
     "metadata": {},
     "output_type": "display_data"
    }
   ],
   "source": [
    "#Distribution of Total Earnings\n",
    "plt.figure(figsize=(12, 6))\n",
    "plt.hist(player_salary[\"Total Earnings\"], bins=30, edgecolor='black')\n",
    "plt.title('Distribution of Total Earnings')\n",
    "plt.xlabel('Total Earnings')\n",
    "plt.ylabel('Number of Players')\n",
    "plt.show()"
   ]
  },
  {
   "cell_type": "code",
   "execution_count": 21,
   "id": "25b154f9",
   "metadata": {},
   "outputs": [
    {
     "data": {
      "image/png": "[encoded data removed]",
      "text/plain": [
       "<Figure size 1200x600 with 1 Axes>"
      ]
     },
     "metadata": {},
     "output_type": "display_data"
    }
   ],
   "source": [
    "#Distribution of Inflation-Adjusted Earnings\n",
    "plt.figure(figsize=(12, 6))\n",
    "plt.hist(player_salary[\"Inflation-Adjusted Earnings\"], bins=30, edgecolor='black', color='orange')\n",
    "plt.title('Distribution of Inflation-Adjusted Earnings')\n",
    "plt.xlabel('Inflation-Adjusted Earnings')\n",
    "plt.ylabel('Number of Players')\n",
    "plt.show()"
   ]
  },
  {
   "cell_type": "code",
   "execution_count": null,
   "id": "c6365e39",
   "metadata": {},
   "outputs": [],
   "source": []
  }
 ],
 "metadata": {
  "kernelspec": {
   "display_name": "Python 3 (ipykernel)",
   "language": "python",
   "name": "python3"
  },
  "language_info": {
   "codemirror_mode": {
    "name": "ipython",
    "version": 3
   },
   "file_extension": ".py",
   "mimetype": "text/x-python",
   "name": "python",
   "nbconvert_exporter": "python",
   "pygments_lexer": "ipython3",
   "version": "3.7.13"
  }
 },
 "nbformat": 4,
 "nbformat_minor": 5
}
