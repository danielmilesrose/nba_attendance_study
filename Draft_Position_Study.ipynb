{
 "cells": [
  {
   "cell_type": "markdown",
   "id": "b5b83e24-6dfe-43b2-abd1-8f197e5b90f6",
   "metadata": {},
   "source": [
    "# NBA Draft Position Study"
   ]
  },
  {
   "cell_type": "code",
   "execution_count": 1,
   "id": "d3c4d2e9-fdaa-4753-9c26-4300131be2aa",
   "metadata": {},
   "outputs": [],
   "source": [
    "# Dependencies and Setup\n",
    "from pathlib import Path\n",
    "import pandas as pd\n",
    "import numpy as np\n",
    "import matplotlib.pyplot as plt\n",
    "from scipy.stats import linregress\n",
    "import matplotlib.colors as mcolors"
   ]
  },
  {
   "cell_type": "code",
   "execution_count": 2,
   "id": "10eb5a53-9e3b-4865-84aa-a72372a32dc5",
   "metadata": {},
   "outputs": [
    {
     "data": {
      "text/html": [
       "<div>\n",
       "<style scoped>\n",
       "    .dataframe tbody tr th:only-of-type {\n",
       "        vertical-align: middle;\n",
       "    }\n",
       "\n",
       "    .dataframe tbody tr th {\n",
       "        vertical-align: top;\n",
       "    }\n",
       "\n",
       "    .dataframe thead th {\n",
       "        text-align: right;\n",
       "    }\n",
       "</style>\n",
       "<table border=\"1\" class=\"dataframe\">\n",
       "  <thead>\n",
       "    <tr style=\"text-align: right;\">\n",
       "      <th></th>\n",
       "      <th>_id</th>\n",
       "      <th>Name</th>\n",
       "      <th>Month</th>\n",
       "      <th>Day</th>\n",
       "      <th>Year</th>\n",
       "      <th>Position</th>\n",
       "      <th>College</th>\n",
       "      <th>Draft Year</th>\n",
       "      <th>Draft Round</th>\n",
       "      <th>Draft Pick</th>\n",
       "      <th>Career Games Played</th>\n",
       "      <th>Career Points Per Game</th>\n",
       "      <th>Total Career Points</th>\n",
       "      <th>Birth City</th>\n",
       "      <th>Birth State/Country</th>\n",
       "    </tr>\n",
       "  </thead>\n",
       "  <tbody>\n",
       "    <tr>\n",
       "      <th>0</th>\n",
       "      <td>abdelal01</td>\n",
       "      <td>Alaa Abdelnaby</td>\n",
       "      <td>June</td>\n",
       "      <td>24</td>\n",
       "      <td>1968</td>\n",
       "      <td>Power Forward</td>\n",
       "      <td>Duke University</td>\n",
       "      <td>1990</td>\n",
       "      <td>1st round</td>\n",
       "      <td>25th overall</td>\n",
       "      <td>256</td>\n",
       "      <td>5.7</td>\n",
       "      <td>1459</td>\n",
       "      <td>Cairo</td>\n",
       "      <td>Egypt</td>\n",
       "    </tr>\n",
       "    <tr>\n",
       "      <th>1</th>\n",
       "      <td>abdulma02</td>\n",
       "      <td>Mahmoud Abdul-Rauf</td>\n",
       "      <td>March</td>\n",
       "      <td>9</td>\n",
       "      <td>1969</td>\n",
       "      <td>Point Guard</td>\n",
       "      <td>Louisiana State University</td>\n",
       "      <td>1990</td>\n",
       "      <td>1st round</td>\n",
       "      <td>3rd overall</td>\n",
       "      <td>586</td>\n",
       "      <td>14.6</td>\n",
       "      <td>8555</td>\n",
       "      <td>Gulfport</td>\n",
       "      <td>Mississippi</td>\n",
       "    </tr>\n",
       "    <tr>\n",
       "      <th>2</th>\n",
       "      <td>abdulta01</td>\n",
       "      <td>Tariq Abdul-Wahad</td>\n",
       "      <td>November</td>\n",
       "      <td>3</td>\n",
       "      <td>1974</td>\n",
       "      <td>Shooting Guard</td>\n",
       "      <td>University of Michigan, San Jose State University</td>\n",
       "      <td>1997</td>\n",
       "      <td>1st round</td>\n",
       "      <td>11th overall</td>\n",
       "      <td>236</td>\n",
       "      <td>7.8</td>\n",
       "      <td>1840</td>\n",
       "      <td>Maisons Alfort</td>\n",
       "      <td>France</td>\n",
       "    </tr>\n",
       "    <tr>\n",
       "      <th>3</th>\n",
       "      <td>abdursh01</td>\n",
       "      <td>Shareef Abdur-Rahim</td>\n",
       "      <td>December</td>\n",
       "      <td>11</td>\n",
       "      <td>1976</td>\n",
       "      <td>Center and Small Forward and Power Forward</td>\n",
       "      <td>University of California</td>\n",
       "      <td>1996</td>\n",
       "      <td>1st round</td>\n",
       "      <td>3rd overall</td>\n",
       "      <td>830</td>\n",
       "      <td>18.1</td>\n",
       "      <td>15023</td>\n",
       "      <td>Marietta</td>\n",
       "      <td>Georgia</td>\n",
       "    </tr>\n",
       "    <tr>\n",
       "      <th>4</th>\n",
       "      <td>abrinal01</td>\n",
       "      <td>Alex Abrines</td>\n",
       "      <td>August</td>\n",
       "      <td>1</td>\n",
       "      <td>1993</td>\n",
       "      <td>Shooting Guard</td>\n",
       "      <td>No college</td>\n",
       "      <td>2013</td>\n",
       "      <td>2nd round</td>\n",
       "      <td>32nd overall</td>\n",
       "      <td>174</td>\n",
       "      <td>5.3</td>\n",
       "      <td>922</td>\n",
       "      <td>Palma de Mallorca</td>\n",
       "      <td>Spain</td>\n",
       "    </tr>\n",
       "  </tbody>\n",
       "</table>\n",
       "</div>"
      ],
      "text/plain": [
       "         _id                 Name     Month  Day  Year  \\\n",
       "0  abdelal01       Alaa Abdelnaby      June   24  1968   \n",
       "1  abdulma02   Mahmoud Abdul-Rauf     March    9  1969   \n",
       "2  abdulta01    Tariq Abdul-Wahad  November    3  1974   \n",
       "3  abdursh01  Shareef Abdur-Rahim  December   11  1976   \n",
       "4  abrinal01         Alex Abrines    August    1  1993   \n",
       "\n",
       "                                     Position  \\\n",
       "0                               Power Forward   \n",
       "1                                 Point Guard   \n",
       "2                              Shooting Guard   \n",
       "3  Center and Small Forward and Power Forward   \n",
       "4                              Shooting Guard   \n",
       "\n",
       "                                             College  Draft Year Draft Round  \\\n",
       "0                                    Duke University        1990   1st round   \n",
       "1                         Louisiana State University        1990   1st round   \n",
       "2  University of Michigan, San Jose State University        1997   1st round   \n",
       "3                           University of California        1996   1st round   \n",
       "4                                         No college        2013   2nd round   \n",
       "\n",
       "     Draft Pick  Career Games Played  Career Points Per Game  \\\n",
       "0  25th overall                  256                     5.7   \n",
       "1   3rd overall                  586                    14.6   \n",
       "2  11th overall                  236                     7.8   \n",
       "3   3rd overall                  830                    18.1   \n",
       "4  32nd overall                  174                     5.3   \n",
       "\n",
       "   Total Career Points         Birth City Birth State/Country  \n",
       "0                 1459              Cairo               Egypt  \n",
       "1                 8555           Gulfport         Mississippi  \n",
       "2                 1840     Maisons Alfort              France  \n",
       "3                15023           Marietta             Georgia  \n",
       "4                  922  Palma de Mallorca               Spain  "
      ]
     },
     "execution_count": 2,
     "metadata": {},
     "output_type": "execute_result"
    }
   ],
   "source": [
    "# Pull NBA draft CSV\n",
    "draft_path = Path(\"Resources/cleaned_draft_data.csv\")\n",
    "draft_data = pd.read_csv(draft_path)\n",
    "draft_data.head()"
   ]
  },
  {
   "cell_type": "code",
   "execution_count": 3,
   "id": "cd0ab55d-9f82-4ede-ae54-555a1f15f200",
   "metadata": {},
   "outputs": [
    {
     "data": {
      "text/html": [
       "<div>\n",
       "<style scoped>\n",
       "    .dataframe tbody tr th:only-of-type {\n",
       "        vertical-align: middle;\n",
       "    }\n",
       "\n",
       "    .dataframe tbody tr th {\n",
       "        vertical-align: top;\n",
       "    }\n",
       "\n",
       "    .dataframe thead th {\n",
       "        text-align: right;\n",
       "    }\n",
       "</style>\n",
       "<table border=\"1\" class=\"dataframe\">\n",
       "  <thead>\n",
       "    <tr style=\"text-align: right;\">\n",
       "      <th></th>\n",
       "      <th>_id</th>\n",
       "      <th>Total Earnings</th>\n",
       "      <th>Inflation-Adjusted Earnings</th>\n",
       "    </tr>\n",
       "  </thead>\n",
       "  <tbody>\n",
       "    <tr>\n",
       "      <th>0</th>\n",
       "      <td>abdelal01</td>\n",
       "      <td>2844000</td>\n",
       "      <td>6.304225e+06</td>\n",
       "    </tr>\n",
       "    <tr>\n",
       "      <th>1</th>\n",
       "      <td>abdulka01</td>\n",
       "      <td>8560000</td>\n",
       "      <td>2.406022e+07</td>\n",
       "    </tr>\n",
       "    <tr>\n",
       "      <th>2</th>\n",
       "      <td>abdulma02</td>\n",
       "      <td>19849500</td>\n",
       "      <td>4.177226e+07</td>\n",
       "    </tr>\n",
       "    <tr>\n",
       "      <th>3</th>\n",
       "      <td>abdulta01</td>\n",
       "      <td>37982800</td>\n",
       "      <td>6.558494e+07</td>\n",
       "    </tr>\n",
       "    <tr>\n",
       "      <th>4</th>\n",
       "      <td>abdursh01</td>\n",
       "      <td>95866000</td>\n",
       "      <td>1.630366e+08</td>\n",
       "    </tr>\n",
       "  </tbody>\n",
       "</table>\n",
       "</div>"
      ],
      "text/plain": [
       "         _id  Total Earnings  Inflation-Adjusted Earnings\n",
       "0  abdelal01         2844000                 6.304225e+06\n",
       "1  abdulka01         8560000                 2.406022e+07\n",
       "2  abdulma02        19849500                 4.177226e+07\n",
       "3  abdulta01        37982800                 6.558494e+07\n",
       "4  abdursh01        95866000                 1.630366e+08"
      ]
     },
     "execution_count": 3,
     "metadata": {},
     "output_type": "execute_result"
    }
   ],
   "source": [
    "# Pull NBA salary CSV\n",
    "salaries_path = Path(\"Resources/cleaned_salary_data.csv\")\n",
    "salaries = pd.read_csv(salaries_path)\n",
    "salaries.head()"
   ]
  },
  {
   "cell_type": "code",
   "execution_count": 4,
   "id": "1e1c76bc-7496-4db4-9868-4c5bb2cb107b",
   "metadata": {},
   "outputs": [],
   "source": [
    "# Merge data\n",
    "full_data = pd.merge(draft_data, salaries, on=\"_id\")"
   ]
  },
  {
   "cell_type": "code",
   "execution_count": 5,
   "id": "8a8b89d5-b9b3-4154-afa4-8450d97aeb07",
   "metadata": {},
   "outputs": [],
   "source": [
    "# Convert the 'Draft Pick' column to only include the numeric values\n",
    "full_data['Draft Number'] = full_data['Draft Pick'].str.extract('(\\d+)').astype(float)"
   ]
  },
  {
   "cell_type": "code",
   "execution_count": 6,
   "id": "f8310ce1-e82d-42d2-a40a-40515330ef86",
   "metadata": {},
   "outputs": [
    {
     "data": {
      "text/html": [
       "<div>\n",
       "<style scoped>\n",
       "    .dataframe tbody tr th:only-of-type {\n",
       "        vertical-align: middle;\n",
       "    }\n",
       "\n",
       "    .dataframe tbody tr th {\n",
       "        vertical-align: top;\n",
       "    }\n",
       "\n",
       "    .dataframe thead th {\n",
       "        text-align: right;\n",
       "    }\n",
       "</style>\n",
       "<table border=\"1\" class=\"dataframe\">\n",
       "  <thead>\n",
       "    <tr style=\"text-align: right;\">\n",
       "      <th></th>\n",
       "      <th>_id</th>\n",
       "      <th>Name</th>\n",
       "      <th>Month</th>\n",
       "      <th>Day</th>\n",
       "      <th>Year</th>\n",
       "      <th>Position</th>\n",
       "      <th>College</th>\n",
       "      <th>Draft Year</th>\n",
       "      <th>Draft Round</th>\n",
       "      <th>Draft Pick</th>\n",
       "      <th>Career Games Played</th>\n",
       "      <th>Career Points Per Game</th>\n",
       "      <th>Total Career Points</th>\n",
       "      <th>Birth City</th>\n",
       "      <th>Birth State/Country</th>\n",
       "      <th>Total Earnings</th>\n",
       "      <th>Inflation-Adjusted Earnings</th>\n",
       "      <th>Draft Number</th>\n",
       "    </tr>\n",
       "  </thead>\n",
       "  <tbody>\n",
       "    <tr>\n",
       "      <th>0</th>\n",
       "      <td>abdelal01</td>\n",
       "      <td>Alaa Abdelnaby</td>\n",
       "      <td>June</td>\n",
       "      <td>24</td>\n",
       "      <td>1968</td>\n",
       "      <td>Power Forward</td>\n",
       "      <td>Duke University</td>\n",
       "      <td>1990</td>\n",
       "      <td>1st round</td>\n",
       "      <td>25th overall</td>\n",
       "      <td>256</td>\n",
       "      <td>5.7</td>\n",
       "      <td>1459</td>\n",
       "      <td>Cairo</td>\n",
       "      <td>Egypt</td>\n",
       "      <td>2844000</td>\n",
       "      <td>6.304225e+06</td>\n",
       "      <td>25.0</td>\n",
       "    </tr>\n",
       "    <tr>\n",
       "      <th>1</th>\n",
       "      <td>abdulma02</td>\n",
       "      <td>Mahmoud Abdul-Rauf</td>\n",
       "      <td>March</td>\n",
       "      <td>9</td>\n",
       "      <td>1969</td>\n",
       "      <td>Point Guard</td>\n",
       "      <td>Louisiana State University</td>\n",
       "      <td>1990</td>\n",
       "      <td>1st round</td>\n",
       "      <td>3rd overall</td>\n",
       "      <td>586</td>\n",
       "      <td>14.6</td>\n",
       "      <td>8555</td>\n",
       "      <td>Gulfport</td>\n",
       "      <td>Mississippi</td>\n",
       "      <td>19849500</td>\n",
       "      <td>4.177226e+07</td>\n",
       "      <td>3.0</td>\n",
       "    </tr>\n",
       "    <tr>\n",
       "      <th>2</th>\n",
       "      <td>abdulta01</td>\n",
       "      <td>Tariq Abdul-Wahad</td>\n",
       "      <td>November</td>\n",
       "      <td>3</td>\n",
       "      <td>1974</td>\n",
       "      <td>Shooting Guard</td>\n",
       "      <td>University of Michigan, San Jose State University</td>\n",
       "      <td>1997</td>\n",
       "      <td>1st round</td>\n",
       "      <td>11th overall</td>\n",
       "      <td>236</td>\n",
       "      <td>7.8</td>\n",
       "      <td>1840</td>\n",
       "      <td>Maisons Alfort</td>\n",
       "      <td>France</td>\n",
       "      <td>37982800</td>\n",
       "      <td>6.558494e+07</td>\n",
       "      <td>11.0</td>\n",
       "    </tr>\n",
       "    <tr>\n",
       "      <th>3</th>\n",
       "      <td>abdursh01</td>\n",
       "      <td>Shareef Abdur-Rahim</td>\n",
       "      <td>December</td>\n",
       "      <td>11</td>\n",
       "      <td>1976</td>\n",
       "      <td>Center and Small Forward and Power Forward</td>\n",
       "      <td>University of California</td>\n",
       "      <td>1996</td>\n",
       "      <td>1st round</td>\n",
       "      <td>3rd overall</td>\n",
       "      <td>830</td>\n",
       "      <td>18.1</td>\n",
       "      <td>15023</td>\n",
       "      <td>Marietta</td>\n",
       "      <td>Georgia</td>\n",
       "      <td>95866000</td>\n",
       "      <td>1.630366e+08</td>\n",
       "      <td>3.0</td>\n",
       "    </tr>\n",
       "    <tr>\n",
       "      <th>4</th>\n",
       "      <td>abrinal01</td>\n",
       "      <td>Alex Abrines</td>\n",
       "      <td>August</td>\n",
       "      <td>1</td>\n",
       "      <td>1993</td>\n",
       "      <td>Shooting Guard</td>\n",
       "      <td>No college</td>\n",
       "      <td>2013</td>\n",
       "      <td>2nd round</td>\n",
       "      <td>32nd overall</td>\n",
       "      <td>174</td>\n",
       "      <td>5.3</td>\n",
       "      <td>922</td>\n",
       "      <td>Palma de Mallorca</td>\n",
       "      <td>Spain</td>\n",
       "      <td>11719764</td>\n",
       "      <td>1.504430e+07</td>\n",
       "      <td>32.0</td>\n",
       "    </tr>\n",
       "  </tbody>\n",
       "</table>\n",
       "</div>"
      ],
      "text/plain": [
       "         _id                 Name     Month  Day  Year  \\\n",
       "0  abdelal01       Alaa Abdelnaby      June   24  1968   \n",
       "1  abdulma02   Mahmoud Abdul-Rauf     March    9  1969   \n",
       "2  abdulta01    Tariq Abdul-Wahad  November    3  1974   \n",
       "3  abdursh01  Shareef Abdur-Rahim  December   11  1976   \n",
       "4  abrinal01         Alex Abrines    August    1  1993   \n",
       "\n",
       "                                     Position  \\\n",
       "0                               Power Forward   \n",
       "1                                 Point Guard   \n",
       "2                              Shooting Guard   \n",
       "3  Center and Small Forward and Power Forward   \n",
       "4                              Shooting Guard   \n",
       "\n",
       "                                             College  Draft Year Draft Round  \\\n",
       "0                                    Duke University        1990   1st round   \n",
       "1                         Louisiana State University        1990   1st round   \n",
       "2  University of Michigan, San Jose State University        1997   1st round   \n",
       "3                           University of California        1996   1st round   \n",
       "4                                         No college        2013   2nd round   \n",
       "\n",
       "     Draft Pick  Career Games Played  Career Points Per Game  \\\n",
       "0  25th overall                  256                     5.7   \n",
       "1   3rd overall                  586                    14.6   \n",
       "2  11th overall                  236                     7.8   \n",
       "3   3rd overall                  830                    18.1   \n",
       "4  32nd overall                  174                     5.3   \n",
       "\n",
       "   Total Career Points         Birth City Birth State/Country  Total Earnings  \\\n",
       "0                 1459              Cairo               Egypt         2844000   \n",
       "1                 8555           Gulfport         Mississippi        19849500   \n",
       "2                 1840     Maisons Alfort              France        37982800   \n",
       "3                15023           Marietta             Georgia        95866000   \n",
       "4                  922  Palma de Mallorca               Spain        11719764   \n",
       "\n",
       "   Inflation-Adjusted Earnings  Draft Number  \n",
       "0                 6.304225e+06          25.0  \n",
       "1                 4.177226e+07           3.0  \n",
       "2                 6.558494e+07          11.0  \n",
       "3                 1.630366e+08           3.0  \n",
       "4                 1.504430e+07          32.0  "
      ]
     },
     "execution_count": 6,
     "metadata": {},
     "output_type": "execute_result"
    }
   ],
   "source": [
    "full_data.head()"
   ]
  },
  {
   "cell_type": "code",
   "execution_count": 7,
   "id": "f8100bac-30dc-4ec2-b8f9-84ae448dd13d",
   "metadata": {},
   "outputs": [
    {
     "data": {
      "text/plain": [
       "_id                            1535\n",
       "Name                           1535\n",
       "Month                          1535\n",
       "Day                            1535\n",
       "Year                           1535\n",
       "Position                       1535\n",
       "College                        1535\n",
       "Draft Year                     1535\n",
       "Draft Round                    1535\n",
       "Draft Pick                     1535\n",
       "Career Games Played            1535\n",
       "Career Points Per Game         1535\n",
       "Total Career Points            1535\n",
       "Birth City                     1535\n",
       "Birth State/Country            1532\n",
       "Total Earnings                 1535\n",
       "Inflation-Adjusted Earnings    1535\n",
       "Draft Number                   1535\n",
       "dtype: int64"
      ]
     },
     "execution_count": 7,
     "metadata": {},
     "output_type": "execute_result"
    }
   ],
   "source": [
    "# Print total number of rows\n",
    "full_data.count()"
   ]
  },
  {
   "cell_type": "markdown",
   "id": "6b396beb-968f-4840-a3b8-c76ef621f32d",
   "metadata": {},
   "source": [
    "## Which draft position produces the highest average career earnings?"
   ]
  },
  {
   "cell_type": "code",
   "execution_count": 8,
   "id": "e140f95d-cc18-4cef-892c-c7473d31ee90",
   "metadata": {},
   "outputs": [
    {
     "data": {
      "text/plain": [
       "Draft Pick\n",
       "1st overall    9.717674e+07\n",
       "2nd overall    7.384961e+07\n",
       "3rd overall    7.455684e+07\n",
       "4th overall    6.971601e+07\n",
       "5th overall    7.123789e+07\n",
       "Name: Total Earnings, dtype: float64"
      ]
     },
     "metadata": {},
     "output_type": "display_data"
    }
   ],
   "source": [
    "# Group data by draft position and sort by highest average career earnings\n",
    "draft_pick_data = full_data.groupby([\"Draft Number\", \"Draft Pick\"])\n",
    "draft_earnings = draft_pick_data[\"Total Earnings\"].mean()\n",
    "draft_earnings = draft_earnings.reset_index(\"Draft Number\", drop=True)\n",
    "\n",
    "sorted_draft_earnings = draft_earnings.sort_values(ascending=False)\n",
    "display(draft_earnings.head())"
   ]
  },
  {
   "cell_type": "code",
   "execution_count": 9,
   "id": "7e8c66f3-3c97-4f11-ac62-32c55fd4b4ab",
   "metadata": {},
   "outputs": [
    {
     "name": "stdout",
     "output_type": "stream",
     "text": [
      "The draft position that produces the highest average earnings is: 1st overall with a total of $97,176,741.09\n"
     ]
    }
   ],
   "source": [
    "# Find the draft position with the highest average career earnings\n",
    "highest_value = \"${:,.2f}\".format(sorted_draft_earnings.iloc[0])\n",
    "print(f\"The draft position that produces the highest average earnings is: {sorted_draft_earnings.index[0]} with a total of {highest_value}\")"
   ]
  },
  {
   "cell_type": "markdown",
   "id": "78c1f609-4cae-41d2-82f4-cc16ca5f21a8",
   "metadata": {},
   "source": [
    "## Which draft position produces the highest average career earnings adjusted to Sep. 1st 2023 inflation?"
   ]
  },
  {
   "cell_type": "code",
   "execution_count": 10,
   "id": "eaed9784-c252-44c3-9249-ec465282f1dd",
   "metadata": {},
   "outputs": [
    {
     "name": "stdout",
     "output_type": "stream",
     "text": [
      "The draft position that produces the highest average inflation-adjusted earnings is: 1st overall with a total of $152,115,203.00\n"
     ]
    }
   ],
   "source": [
    "# Repeating for inflaion-adjusted earnings\n",
    "draft_earnings_adjusted = draft_pick_data[\"Inflation-Adjusted Earnings\"].mean()\n",
    "draft_earnings_adjusted = draft_earnings_adjusted.reset_index(\"Draft Number\", drop=True)\n",
    "sorted_draft_earnings_adjusted = draft_earnings_adjusted.sort_values(ascending=False)\n",
    "#display(draft_earnings_adjusted.head())\n",
    "\n",
    "# Find the draft position with the highest average career earnings adjusted to Sep. 1st 2023 inflation\n",
    "highest_value = \"${:,.2f}\".format(sorted_draft_earnings_adjusted.iloc[0])\n",
    "print(f\"The draft position that produces the highest average inflation-adjusted earnings is: {sorted_draft_earnings_adjusted.index[0]} with a total of {highest_value}\")"
   ]
  },
  {
   "cell_type": "code",
   "execution_count": null,
   "id": "6c59803f",
   "metadata": {},
   "outputs": [],
   "source": [
    "#Average Career Earnings by Draft Position (Non-inflation-Adjusted vs Inflation-Adjusted)\n",
    "plt.figure(figsize=(14, 7))\n",
    "draft_earnings.plot(kind='bar', color=mcolors.TABLEAU_COLORS, edgecolor='black')\n",
    "draft_earnings_adjusted.plot(kind='bar', color=mcolors.TABLEAU_COLORS, edgecolor='black', alpha=0.5)\n",
    "plt.title('Average Career Earnings by Draft Position', size=14, weight='bold')\n",
    "plt.xlabel('Draft Position', size=12, weight='bold')\n",
    "plt.xticks(rotation=90)\n",
    "plt.ylabel('Average Earnings (per $1,000,000)', size=12, weight='bold')\n",
    "\n",
    "ylocs, ylabels = plt.yticks()\n",
    "ylabels = [int(float(label.get_text()) * 100) for label in ylabels]\n",
    "plt.yticks(ylocs, labels=ylabels)\n",
    "plt.legend(labels = [\"Non-inflation-Adjusted\", \"Inflation-Adjusted\"])\n",
    "plt.tight_layout()\n",
    "plt.savefig(\"Resources/draft_position_earnings.png\")\n",
    "plt.show()"
   ]
  },
  {
   "cell_type": "markdown",
   "id": "537da615-072e-4f13-a6bf-adc30a32d9bf",
   "metadata": {},
   "source": [
    "## Compare average career earnings of different round picks"
   ]
  },
  {
   "cell_type": "code",
   "execution_count": null,
   "id": "de6d6385-27d3-4b04-a2b5-2da95de31fee",
   "metadata": {},
   "outputs": [],
   "source": [
    "# Group data by draft rounds and find the average career earnings\n",
    "round_earnings = full_data.groupby(\"Draft Round\")[\"Total Earnings\"].mean()\n",
    "display(round_earnings)"
   ]
  },
  {
   "cell_type": "code",
   "execution_count": null,
   "id": "2daf5796-5b14-4f46-abd6-d0953a0a6fdd",
   "metadata": {},
   "outputs": [],
   "source": [
    "# Find the draft round with the highest average career earnings\n",
    "sorted_round_earnings = round_earnings.sort_values(ascending=False)\n",
    "highest_value = \"${:,.2f}\".format(sorted_round_earnings.iloc[0])\n",
    "print(f\"The draft round that produces the highest average earnings is: {sorted_round_earnings.index[0]} with a total of {highest_value}\")"
   ]
  },
  {
   "cell_type": "markdown",
   "id": "77195208-c579-4334-8d46-d0371ed1176d",
   "metadata": {},
   "source": [
    "## Compare average career earnings of different round picks adjusted to Sep. 1st 2023 inflation"
   ]
  },
  {
   "cell_type": "code",
   "execution_count": null,
   "id": "ef442459-fd52-42b4-84ce-67d134bdb19f",
   "metadata": {},
   "outputs": [],
   "source": [
    "# Repeating for inflaion-adjusted earnings\n",
    "round_earnings_adjusted = full_data.groupby(\"Draft Round\")[\"Inflation-Adjusted Earnings\"].mean()\n",
    "sorted_round_earnings_adjusted = round_earnings_adjusted.sort_values(ascending=False)\n",
    "#display(round_earnings_adjusted)\n",
    "\n",
    "# Find the draft round with the highest average career earnings adjusted to Sep. 1st 2023 inflation\n",
    "highest_value = \"${:,.2f}\".format(sorted_round_earnings_adjusted.iloc[0])\n",
    "print(f\"The draft round that produces the highest average inflation-adjusted earnings is: {sorted_round_earnings_adjusted.index[0]} with a total of {highest_value}\")"
   ]
  },
  {
   "cell_type": "code",
   "execution_count": null,
   "id": "69d0229f",
   "metadata": {},
   "outputs": [],
   "source": [
    "#Average Career Earnings by Draft Round (Non-inflation-Adjusted vs Inflation-Adjusted)\n",
    "fig, ax = plt.subplots(figsize=(8, 7))\n",
    "bar_container = ax.bar(round_earnings.index, round_earnings, color=mcolors.BASE_COLORS, edgecolor='black')\n",
    "ax.bar_label(bar_container, fmt='${:,.0f}', weight='bold', padding=3)\n",
    "bar_container2 = ax.bar(round_earnings_adjusted.index, round_earnings_adjusted, color=mcolors.BASE_COLORS, edgecolor='black', alpha=0.5)\n",
    "ax.bar_label(bar_container2, fmt='${:,.0f}', weight='bold', padding=9.5)\n",
    "\n",
    "plt.title('Average Career Earnings by Draft Round', size=14, weight='bold')\n",
    "plt.xlabel('Draft Round', size=12, weight='bold')\n",
    "plt.ylabel('Average Earnings (per $1,000,000)', size=12, weight='bold')\n",
    "\n",
    "ylocs, ylabels = plt.yticks()\n",
    "ylabels = [int(float(label.get_text()) * 10) for label in ylabels]\n",
    "plt.yticks(ylocs, labels=ylabels)\n",
    "plt.xticks(rotation=0, weight='bold')\n",
    "plt.legend(labels = [\"Non-inflation-Adjusted\", \"Inflation-Adjusted\"])\n",
    "plt.tight_layout()\n",
    "plt.savefig(\"Resources/draft_round_earnings.png\")\n",
    "plt.show()"
   ]
  },
  {
   "cell_type": "markdown",
   "id": "6e127c6c",
   "metadata": {},
   "source": [
    "## Which draft year produces the highest average career earnings?"
   ]
  },
  {
   "cell_type": "code",
   "execution_count": null,
   "id": "7775bfbc",
   "metadata": {},
   "outputs": [],
   "source": [
    "# Group data by draft year and sort by highest average career earnings\n",
    "draft_year_data = full_data.groupby(\"Draft Year\")\n",
    "draft_year_earnings = draft_year_data['Total Earnings'].mean()\n",
    "highest_draft_year_earnings = draft_year_earnings.sort_values(ascending=False)\n",
    "highest_draft_year_earnings.head()"
   ]
  },
  {
   "cell_type": "code",
   "execution_count": null,
   "id": "ceba0d32-dc0e-48e7-a6fc-c2cc8e933b70",
   "metadata": {},
   "outputs": [],
   "source": [
    "# Find the draft year with the highest average career earnings\n",
    "highest_value = \"${:,.2f}\".format(highest_draft_year_earnings.iloc[0])\n",
    "print(f\"The draft year that produces the highest average earnings is: {highest_draft_year_earnings.index[0]} with a total of {highest_value}\")"
   ]
  },
  {
   "cell_type": "markdown",
   "id": "c2f631c2",
   "metadata": {},
   "source": [
    "## Which draft year produces the highest average career earnings adjusted to Sep. 1st 2023 inflation?"
   ]
  },
  {
   "cell_type": "code",
   "execution_count": null,
   "id": "aed0258f-7181-4e2c-ab5f-12fad5cc1284",
   "metadata": {},
   "outputs": [],
   "source": [
    "# Group data by draft year and sort by highest average career earnings adjusted to Sep. 1st 2023 inflation\n",
    "draft_year_earnings_adjusted = draft_year_data['Inflation-Adjusted Earnings'].mean()\n",
    "highest_draft_year_earnings_adjusted = draft_year_earnings_adjusted.sort_values(ascending=False)\n",
    "#display(highest_draft_year_earnings_adjusted.head())\n",
    "\n",
    "# Find the draft year with the highest average career earnings adjusted to Sep. 1st 2023 inflation\n",
    "highest_value = \"${:,.2f}\".format(highest_draft_year_earnings_adjusted.iloc[0])\n",
    "print(f\"The draft year that produces the highest adjusted average inflation-adjusted earnings is: {highest_draft_year_earnings_adjusted.index[0]} with a total of {highest_value}\")"
   ]
  },
  {
   "cell_type": "code",
   "execution_count": null,
   "id": "6a82cc96-2985-4dd0-808a-79f257bdd054",
   "metadata": {},
   "outputs": [],
   "source": [
    "# Create a helper function to convert \"−\" into \"-\" to avoid float-conversion issue\n",
    "def convert(num):\n",
    "    if num[0] == \"−\":\n",
    "        result = num.replace(\"−\", \"-\")\n",
    "    else:\n",
    "        result = num\n",
    "    return result"
   ]
  },
  {
   "cell_type": "code",
   "execution_count": null,
   "id": "02b3c479",
   "metadata": {},
   "outputs": [],
   "source": [
    "#Average Career Earnings by Draft Year (Non-inflation-Adjusted vs Inflation-Adjusted)\n",
    "plt.figure(figsize=(14, 7))\n",
    "draft_year_earnings.plot(kind='line', marker='o', color='green')\n",
    "draft_year_earnings_adjusted.plot(kind='line', marker='o', color='purple')\n",
    "plt.title('Average Career Earnings by Draft Year', size=14, weight='bold')\n",
    "plt.xlabel('Draft Year', size=12, weight='bold')\n",
    "plt.ylabel('Average Earnings (per $1,000,000)', size=12, weight='bold')\n",
    "\n",
    "ylocs, ylabels = plt.yticks()\n",
    "ylabels = [int(float(convert(label.get_text())) * 10) for label in ylabels]\n",
    "plt.yticks(ylocs, labels=ylabels)\n",
    "plt.xticks(rotation=45)\n",
    "plt.legend(labels = [\"Non-inflation-Adjusted\", \"Inflation-Adjusted\"])\n",
    "plt.tight_layout()\n",
    "plt.savefig(\"Resources/draft_year_earnings.png\")\n",
    "plt.show()"
   ]
  },
  {
   "cell_type": "markdown",
   "id": "3d984f74-eda2-45f6-b7ea-fb37662550bf",
   "metadata": {},
   "source": [
    "## Relationship between Draft Pick Position and Inflation-Adjusted Earnings\n",
    "To check if there is a clear trend between being picked earlier in the draft and having a higher salary"
   ]
  },
  {
   "cell_type": "code",
   "execution_count": null,
   "id": "d5dae55e-5a18-4f96-9025-d95ccb8e9ecf",
   "metadata": {},
   "outputs": [],
   "source": [
    "# Create a scatter plot to find relationship between Draft Pick Position and Inflation-Adjusted Earnings\n",
    "full_data.plot.scatter('Draft Number', 'Inflation-Adjusted Earnings', color='yellow', figsize=(12, 6))\n",
    "plt.title('Relationship between Draft Pick Position and Inflation-Adjusted Earnings', size=14, weight='bold')\n",
    "plt.xlabel('Draft Pick Position', size=12, weight='bold')\n",
    "plt.ylabel('Earnings (per $1,000,000)', size=12, weight='bold')\n",
    "\n",
    "slope, intercept, rvalue, pvalue, stderr = linregress(full_data[\"Draft Number\"], full_data[\"Inflation-Adjusted Earnings\"])\n",
    "regress_values = full_data[\"Draft Number\"] * slope + intercept\n",
    "plt.plot(full_data[\"Draft Number\"], regress_values, color='red')\n",
    "plt.annotate(f\"y={round(slope, 0)}x + {round(intercept, 0)}\", xy=(70, 30000000), color='red', size=14)\n",
    "\n",
    "ylocs, ylabels = plt.yticks()\n",
    "ylabels = [int(float(convert(label.get_text())) * 100) for label in ylabels]\n",
    "plt.yticks(ylocs, labels=ylabels)\n",
    "plt.ylim(-40000000, 600000000)\n",
    "print(f\"The correlation between draft pick position and Inflation-Adjusted earnings is {round(rvalue, 2)}\")\n",
    "plt.grid(True, which='both', linestyle='--', linewidth=0.5)\n",
    "plt.savefig(\"Resources/draft_position_earnings2.png\")\n",
    "plt.show()"
   ]
  },
  {
   "cell_type": "markdown",
   "id": "a45a3b33-b619-4652-9840-18df1601fe55",
   "metadata": {},
   "source": [
    "## Relationship between Draft Year and Inflation-Adjusted Earnings"
   ]
  },
  {
   "cell_type": "code",
   "execution_count": null,
   "id": "d1d0ed4e-c1bd-4d59-b17e-bfb177598fba",
   "metadata": {},
   "outputs": [],
   "source": [
    "# Create a scatter plot to find relationship between Draft Year and Inflation-Adjusted Earnings\n",
    "full_data.plot.scatter('Draft Year', 'Inflation-Adjusted Earnings', color='orange', figsize=(12, 6))\n",
    "plt.title('Relationship between Draft Year and Inflation-Adjusted Earnings', size=14, weight='bold')\n",
    "plt.xlabel('Draft Year', size=12, weight='bold')\n",
    "plt.ylabel('Earnings (per $1,000,000)', size=12, weight='bold')\n",
    "\n",
    "slope, intercept, rvalue, pvalue, stderr = linregress(full_data[\"Draft Year\"], full_data[\"Inflation-Adjusted Earnings\"])\n",
    "regress_values = full_data[\"Draft Year\"] * slope + intercept\n",
    "plt.plot(full_data[\"Draft Year\"], regress_values, color='blue')\n",
    "plt.annotate(f\"y={round(slope, 0)}x + {round(intercept, 0)}\", xy=(1990, -27000000), color='blue', size=14)\n",
    "\n",
    "ylocs, ylabels = plt.yticks()\n",
    "ylabels = [int(float(convert(label.get_text())) * 100) for label in ylabels]\n",
    "plt.yticks(ylocs, labels=ylabels)\n",
    "print(f\"The correlation between draft year and Inflation-Adjusted earnings is {round(rvalue, 2)}\")\n",
    "plt.grid(True, which='both', linestyle='--', linewidth=0.5)\n",
    "plt.savefig(\"Resources/draft_year_earnings2.png\")\n",
    "plt.show()"
   ]
  },
  {
   "cell_type": "code",
   "execution_count": null,
   "id": "021433db-4729-40bd-a822-f229eb62e10b",
   "metadata": {},
   "outputs": [],
   "source": [
    "# Created a new column that displays the age at which the player was drafted in the NBA\n",
    "full_data['Age Drafted'] = full_data['Draft Year'] - full_data['Year']"
   ]
  },
  {
   "cell_type": "code",
   "execution_count": null,
   "id": "ca10d93f-9c2e-4c7e-919a-17faf747cc45",
   "metadata": {},
   "outputs": [],
   "source": [
    "display(full_data.head())"
   ]
  },
  {
   "cell_type": "code",
   "execution_count": null,
   "id": "5722c398-0731-44f8-8c3e-2eeb22d2c402",
   "metadata": {},
   "outputs": [],
   "source": [
    "# Creating a box and whisker plot of the newly created \"Age Drafted\" column\n",
    "plt.figure(figsize=(10, 6))\n",
    "plt.boxplot(full_data['Age Drafted'], flierprops = dict(marker = \"o\", markerfacecolor = \"red\", markersize=8))\n",
    "plt.title('NBA Players Age Drafted', size=14, weight=\"bold\")\n",
    "plt.ylabel('Age', weight=\"bold\")\n",
    "plt.savefig(\"Resources/age_drafted_outliers.png\")\n",
    "plt.show()\n"
   ]
  },
  {
   "cell_type": "code",
   "execution_count": null,
   "id": "42c29845-9658-482f-b48b-c823f9a12697",
   "metadata": {},
   "outputs": [],
   "source": [
    "age_drafted_summary = full_data['Age Drafted'].describe()[['min', '25%', '50%', '75%', 'max']]\n",
    "display(age_drafted_summary)"
   ]
  },
  {
   "cell_type": "code",
   "execution_count": null,
   "id": "35f6ac38-f208-494c-a47e-39e67b6acf44",
   "metadata": {},
   "outputs": [],
   "source": []
  }
 ],
 "metadata": {
  "kernelspec": {
   "display_name": "Python 3 (ipykernel)",
   "language": "python",
   "name": "python3"
  },
  "language_info": {
   "codemirror_mode": {
    "name": "ipython",
    "version": 3
   },
   "file_extension": ".py",
   "mimetype": "text/x-python",
   "name": "python",
   "nbconvert_exporter": "python",
   "pygments_lexer": "ipython3",
   "version": "3.10.13"
  }
 },
 "nbformat": 4,
 "nbformat_minor": 5
}
